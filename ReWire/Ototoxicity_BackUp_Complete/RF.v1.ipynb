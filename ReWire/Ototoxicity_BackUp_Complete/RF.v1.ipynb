{
 "cells": [
  {
   "cell_type": "code",
   "execution_count": 12,
   "id": "1d36cc48",
   "metadata": {},
   "outputs": [],
   "source": [
    "#Importing Modules \n",
    "from sklearn.ensemble import RandomForestClassifier\n",
    "from sklearn.model_selection import train_test_split\n",
    "from sklearn.metrics import accuracy_score\n",
    "import numpy as np \n",
    "import pandas as pd \n",
    "from rdkit import Chem\n",
    "from rdkit.Chem import AllChem\n",
    "from sklearn.ensemble import RandomForestClassifier\n",
    "from sklearn import svm\n",
    "from sklearn.model_selection import train_test_split\n",
    "import seaborn as sns\n",
    "import matplotlib.pyplot as plt\n",
    "from sklearn.metrics import confusion_matrix"
   ]
  },
  {
   "cell_type": "markdown",
   "id": "fab8e194",
   "metadata": {},
   "source": [
    "## Steps \n",
    "1) Obtain and store the FP for df0 (NT) and df1 (T) \n",
    "2) Build RF model for these data sets "
   ]
  },
  {
   "cell_type": "code",
   "execution_count": 8,
   "id": "6c6b30e2",
   "metadata": {},
   "outputs": [
    {
     "name": "stdout",
     "output_type": "stream",
     "text": [
      "           Name                                              Smile  Class  \\\n",
      "0  propisergide  C[C@H](CO)NC(=O)[C@H]1CN(C)[C@@H]2Cc3cn(C)c4cc...      0   \n",
      "1    sancycline  CN(C)[C@H]1[C@@H]2C[C@@H]3Cc4cccc(O)c4C(=O)C3=...      0   \n",
      "2   metoserpate  CO[C@H]1C[C@@H]2CN3CCc4c([nH]c5cc(OC)ccc45)[C@...      0   \n",
      "3   fludiazepam               CN1C(=O)CN=C(c2ccccc2F)c3cc(Cl)ccc13      0   \n",
      "4    epiestriol  C[C@]12CC[C@H]3[C@H](CCc4cc(O)ccc34)[C@H]1C[C@...      0   \n",
      "\n",
      "  PUBCHEM_CIDs                               Most_Relevant_SMILES  \\\n",
      "0   [20055549]  C[C@@H](CO)NC(=O)[C@H]1CN([C@@H]2CC3=CN(C4=CC=...   \n",
      "1   [54688686]  CN(C)[C@H]1[C@@H]2C[C@@H]3CC4=C(C(=CC=C4)O)C(=...   \n",
      "2      [66252]  CO[C@H]1C[C@@H]2CN3CCC4=C([C@H]3C[C@@H]2[C@@H]...   \n",
      "3       [3369]         CN1C(=O)CN=C(C2=C1C=CC(=C2)Cl)C3=CC=CC=C3F   \n",
      "4      [68929]  C[C@]12CC[C@H]3[C@H]([C@@H]1C[C@@H]([C@@H]2O)O...   \n",
      "\n",
      "   Match_MostRelevant                                    Matching_SMILES  \\\n",
      "0               False                                                NaN   \n",
      "1               False                                                NaN   \n",
      "2                True  CO[C@H]1C[C@@H]2CN3CCC4=C([C@H]3C[C@@H]2[C@@H]...   \n",
      "3                True         CN1C(=O)CN=C(C2=C1C=CC(=C2)Cl)C3=CC=CC=C3F   \n",
      "4               False                                                NaN   \n",
      "\n",
      "   Matching_CID            Matching_InChIKey  \n",
      "0           NaN                          NaN  \n",
      "1           NaN                          NaN  \n",
      "2       66252.0  FPGCYQVKNKEGRQ-SXLQGMKLSA-N  \n",
      "3        3369.0  ROYOYTLGDLIGBX-UHFFFAOYSA-N  \n",
      "4           NaN                          NaN  \n",
      "             Name                                              Smile  Class  \\\n",
      "0      Everolimus  CO[C@@H]1C[C@H](C[C@@H](C)[C@@H]2CC(=O)[C@H](C...      1   \n",
      "1    Posaconazole  CC[C@@H]([C@H](C)O)N1N=CN(C1=O)c2ccc(cc2)N3CCN...      1   \n",
      "2  Alatrofloxacin  C[C@H](N)C(=O)N[C@@H](C)C(=O)N[C@H]1[C@@H]2CN(...      1   \n",
      "3     Aminosidine  NC[C@@H]1O[C@H](O[C@H]2[C@@H](O)[C@H](O[C@@H]3...      1   \n",
      "4      Isepamicin  CN[C@@H]1[C@@H](O)[C@@H](O[C@@H]2[C@@H](O)[C@H...      1   \n",
      "\n",
      "         PUBCHEM_CIDs                               Most_Relevant_SMILES  \\\n",
      "0           [6442177]  C[C@@H]1CC[C@H]2C[C@@H](/C(=C/C=C/C=C/[C@H](C[...   \n",
      "1            [468595]  CC[C@@H]([C@H](C)O)N1C(=O)N(C=N1)C2=CC=C(C=C2)...   \n",
      "2  [3086677, 5282517]  C[C@@H](C(=O)N[C@@H](C)C(=O)NC1[C@H]2[C@@H]1CN...   \n",
      "3            [165580]  C1[C@H]([C@@H]([C@H]([C@@H]([C@H]1N)O[C@@H]2[C...   \n",
      "4           [3037209]  C[C@@]1(CO[C@@H]([C@@H]([C@H]1NC)O)O[C@H]2[C@@...   \n",
      "\n",
      "   Match_MostRelevant                                    Matching_SMILES  \\\n",
      "0                True  C[C@@H]1CC[C@H]2C[C@@H](/C(=C/C=C/C=C/[C@H](C[...   \n",
      "1                True  CC[C@@H]([C@H](C)O)N1C(=O)N(C=N1)C2=CC=C(C=C2)...   \n",
      "2               False                                                NaN   \n",
      "3                True  C1[C@H]([C@@H]([C@H]([C@@H]([C@H]1N)O[C@@H]2[C...   \n",
      "4                True  C[C@@]1(CO[C@@H]([C@@H]([C@H]1NC)O)O[C@H]2[C@@...   \n",
      "\n",
      "   Matching_CID            Matching_InChIKey  \n",
      "0     6442177.0  HKVAMNSJSFKALM-GKUWKFKPSA-N  \n",
      "1      468595.0  RAGOYPUPXAKGKH-XAKZXMRKSA-N  \n",
      "2           NaN                          NaN  \n",
      "3      165580.0  UOZODPSAJZTQNH-LSWIJEOBSA-N  \n",
      "4     3037209.0  UDIIBEDMEYAVNG-ZKFPOVNWSA-N  \n"
     ]
    }
   ],
   "source": [
    "#Reading in the csv files \n",
    "df0 = pd.read_csv('augmented_class0.csv')  \n",
    "df1 = pd.read_csv('augmented_class1.csv')\n",
    "\n",
    "# print(df0.head())\n",
    "# print(df1.head())"
   ]
  },
  {
   "cell_type": "code",
   "execution_count": 10,
   "id": "c769091f",
   "metadata": {},
   "outputs": [
    {
     "name": "stdout",
     "output_type": "stream",
     "text": [
      "                                Most_Relevant_SMILES\n",
      "0  C[C@@H](CO)NC(=O)[C@H]1CN([C@@H]2CC3=CN(C4=CC=...\n",
      "1  CN(C)[C@H]1[C@@H]2C[C@@H]3CC4=C(C(=CC=C4)O)C(=...\n",
      "2  CO[C@H]1C[C@@H]2CN3CCC4=C([C@H]3C[C@@H]2[C@@H]...\n",
      "3         CN1C(=O)CN=C(C2=C1C=CC(=C2)Cl)C3=CC=CC=C3F\n",
      "4  C[C@]12CC[C@H]3[C@H]([C@@H]1C[C@@H]([C@@H]2O)O...\n",
      "                                Most_Relevant_SMILES\n",
      "0  C[C@@H]1CC[C@H]2C[C@@H](/C(=C/C=C/C=C/[C@H](C[...\n",
      "1  CC[C@@H]([C@H](C)O)N1C(=O)N(C=N1)C2=CC=C(C=C2)...\n",
      "2  C[C@@H](C(=O)N[C@@H](C)C(=O)NC1[C@H]2[C@@H]1CN...\n",
      "3  C1[C@H]([C@@H]([C@H]([C@@H]([C@H]1N)O[C@@H]2[C...\n",
      "4  C[C@@]1(CO[C@@H]([C@@H]([C@H]1NC)O)O[C@H]2[C@@...\n"
     ]
    }
   ],
   "source": [
    "#Filtering out the NA values \n",
    "df0 = df0[[\"Most_Relevant_SMILES\"]]\n",
    "df1 = df1[['Most_Relevant_SMILES']]\n",
    "df0 = df0[df0.Most_Relevant_SMILES.notna()]\n",
    "df1 = df1[df1.Most_Relevant_SMILES.notna()]\n",
    "\n",
    "print(df0.head())\n",
    "print(df1.head())"
   ]
  },
  {
   "cell_type": "code",
   "execution_count": 13,
   "id": "337a6981",
   "metadata": {},
   "outputs": [
    {
     "name": "stderr",
     "output_type": "stream",
     "text": [
      "[01:16:21] WARNING: not removing hydrogen atom without neighbors\n",
      "[01:16:21] WARNING: not removing hydrogen atom without neighbors\n"
     ]
    }
   ],
   "source": [
    "# Generating the mol and the fp from the mol for df0 and df1 \n",
    "df0['mol']= df0['Most_Relevant_SMILES'].apply(lambda x: AllChem.MolFromSmiles(x))\n",
    "df0['FP']= df0['mol'].apply(lambda x: Chem.RDKFingerprint(x))\n",
    "df1['mol']= df1['Most_Relevant_SMILES'].apply(lambda x: AllChem.MolFromSmiles(x))\n",
    "df1['FP']= df1['mol'].apply(lambda x: Chem.RDKFingerprint(x))"
   ]
  },
  {
   "cell_type": "code",
   "execution_count": 69,
   "id": "54d6f520",
   "metadata": {},
   "outputs": [
    {
     "name": "stdout",
     "output_type": "stream",
     "text": [
      "0       [1, 1, 1, 1, 1, 1, 0, 1, 1, 1, 0, 1, 1, 1, 0, ...\n",
      "1       [1, 1, 1, 1, 0, 0, 1, 1, 1, 0, 1, 0, 0, 0, 1, ...\n",
      "2       [1, 0, 1, 1, 0, 1, 1, 1, 1, 1, 1, 1, 1, 0, 1, ...\n",
      "3       [1, 0, 1, 1, 0, 1, 0, 0, 0, 0, 0, 1, 0, 1, 1, ...\n",
      "4       [1, 0, 0, 0, 0, 0, 0, 0, 0, 0, 1, 0, 0, 0, 0, ...\n",
      "                              ...                        \n",
      "1602    [0, 0, 0, 0, 0, 0, 0, 0, 0, 0, 0, 0, 0, 0, 0, ...\n",
      "1603    [0, 1, 0, 0, 1, 0, 0, 0, 0, 0, 1, 0, 0, 0, 0, ...\n",
      "1604    [1, 1, 0, 1, 0, 1, 0, 1, 0, 0, 1, 1, 1, 0, 0, ...\n",
      "1605    [0, 0, 0, 0, 0, 0, 0, 0, 0, 0, 0, 0, 0, 0, 0, ...\n",
      "1606    [1, 1, 1, 0, 1, 1, 1, 0, 1, 1, 1, 1, 0, 1, 1, ...\n",
      "Name: FP, Length: 1567, dtype: object\n",
      "0      [1, 0, 1, 0, 0, 1, 0, 0, 1, 0, 0, 0, 1, 1, 1, ...\n",
      "1      [1, 1, 1, 1, 0, 1, 0, 0, 1, 0, 1, 1, 1, 1, 1, ...\n",
      "2      [1, 1, 1, 1, 0, 1, 0, 1, 1, 0, 1, 1, 1, 0, 0, ...\n",
      "3      [1, 0, 0, 0, 0, 1, 0, 0, 0, 0, 1, 0, 1, 0, 1, ...\n",
      "4      [1, 0, 1, 0, 1, 1, 0, 0, 0, 0, 1, 0, 1, 0, 1, ...\n",
      "                             ...                        \n",
      "900    [1, 0, 1, 1, 1, 0, 0, 1, 1, 1, 1, 0, 1, 1, 0, ...\n",
      "901    [1, 0, 1, 1, 1, 1, 1, 1, 1, 1, 0, 1, 1, 0, 1, ...\n",
      "903    [0, 0, 0, 0, 0, 1, 0, 0, 0, 0, 0, 0, 0, 0, 0, ...\n",
      "904    [0, 0, 0, 0, 0, 0, 0, 0, 0, 0, 0, 0, 0, 1, 0, ...\n",
      "905    [1, 0, 1, 0, 0, 1, 0, 0, 1, 0, 0, 1, 0, 0, 0, ...\n",
      "Name: FP, Length: 903, dtype: object\n"
     ]
    }
   ],
   "source": [
    "print(df0['FP'])\n",
    "print(df1['FP'])\n",
    "# df0.to_csv(\"/Users/anirudh/Documents/ReWire\", index= False)\n",
    "# df1.to_csv(\"/Users/anirudh/Documents/ReWire\", index-False)"
   ]
  },
  {
   "cell_type": "code",
   "execution_count": 25,
   "id": "507ddfcf",
   "metadata": {},
   "outputs": [],
   "source": [
    "# Transforming Fingerprint objects into 2048-bit arrays\n",
    "N_features = 2048 #number of bits or features for the array, fp aray \n",
    "\n",
    "#df0, non-toxic \n",
    "N_0 = df0.shape[0] #number of rows in df0= 1567 \n",
    "X_ = np.array(df0['FP'].apply(lambda x: np.array(x, dtype=np.uint8))) #convert fp into 8 bit int and stored in X_\n",
    "X0 = np.zeros((N_0, N_features), dtype=np.uint8) #empty np array X0 with N_0 rows and N_feature cols in 8bit format, feature\n",
    "for i in range(N_0):\n",
    "  X0[i, :] = X_[i]\n",
    "Y0=np.zeros(N_0) #target \n",
    "\n",
    "\n",
    "# df1, toxic \n",
    "N_1 = df1.shape[0] #903 \n",
    "X_ = np.array(df1['FP'].apply(lambda x: np.array(x, dtype=np.uint8)))\n",
    "X1 = np.zeros((N_1, N_features), dtype=np.uint8)\n",
    "for i in range(N_1):\n",
    "  X1[i, :] = X_[i]\n",
    "Y1=np.ones(N_1)"
   ]
  },
  {
   "cell_type": "code",
   "execution_count": 26,
   "id": "7f6d09bc",
   "metadata": {},
   "outputs": [
    {
     "name": "stdout",
     "output_type": "stream",
     "text": [
      "1567\n",
      "903\n"
     ]
    }
   ],
   "source": [
    "print(df0.shape[0])\n",
    "print(df1.shape[0])"
   ]
  },
  {
   "cell_type": "code",
   "execution_count": 27,
   "id": "b7d236dc",
   "metadata": {},
   "outputs": [],
   "source": [
    "# Creating feature and target labels \n",
    "X = np.concatenate((X0,X1),axis=0) #Feature label \n",
    "Y = np.concatenate((Y0,Y1),axis=0) #Target label \n",
    "best_acc = 0.0 "
   ]
  },
  {
   "cell_type": "markdown",
   "id": "e58716e1",
   "metadata": {},
   "source": [
    "## RF "
   ]
  },
  {
   "cell_type": "code",
   "execution_count": 74,
   "id": "a6094473",
   "metadata": {},
   "outputs": [],
   "source": [
    "# Split the data into training and test sets (80% for training, 20% for testing)\n",
    "X_train, X_test, Y_train, Y_test = train_test_split(X, Y, test_size=0.2, random_state=42)"
   ]
  },
  {
   "cell_type": "code",
   "execution_count": 75,
   "id": "8184dd68",
   "metadata": {},
   "outputs": [],
   "source": [
    "# Create a RF classifier \n",
    "rf= RandomForestClassifier()\n",
    "# Train the model on the training data \n",
    "rf.fit(X_train, Y_train)\n",
    "Y_pred = np.array(rf.predict(X_test))"
   ]
  },
  {
   "cell_type": "code",
   "execution_count": 76,
   "id": "2831a13d",
   "metadata": {},
   "outputs": [],
   "source": [
    "# Use the trained model to make predictions on the test data\n",
    "y_pred = rf.predict(X_test)"
   ]
  },
  {
   "cell_type": "code",
   "execution_count": 77,
   "id": "9ed14894",
   "metadata": {},
   "outputs": [
    {
     "name": "stdout",
     "output_type": "stream",
     "text": [
      "Accuracy: 0.6862348178137652\n"
     ]
    }
   ],
   "source": [
    "# Calculate the accuracy of the model's predictions\n",
    "accuracy = accuracy_score(Y_test, Y_pred)\n",
    "print(\"Accuracy:\", accuracy)"
   ]
  },
  {
   "cell_type": "markdown",
   "id": "526d927a",
   "metadata": {},
   "source": [
    "## DT \n"
   ]
  },
  {
   "cell_type": "code",
   "execution_count": 78,
   "id": "385c5f9b",
   "metadata": {},
   "outputs": [],
   "source": [
    "from sklearn.tree import DecisionTreeClassifier"
   ]
  },
  {
   "cell_type": "code",
   "execution_count": 83,
   "id": "52118368",
   "metadata": {},
   "outputs": [],
   "source": [
    "# Split the data into training and test sets (80% for training, 20% for testing)\n",
    "X_train_dt, X_test_dt, Y_train_dt, Y_test_dt = train_test_split(X, Y, test_size=0.2, random_state=42)"
   ]
  },
  {
   "cell_type": "code",
   "execution_count": 84,
   "id": "968684fc",
   "metadata": {},
   "outputs": [],
   "source": [
    "# Create a RF classifier \n",
    "dt= DecisionTreeClassifier()\n",
    "# Train the model on the training data \n",
    "dt.fit(X_train_dt, Y_train_dt)\n",
    "Y_pred_dt = np.array(rf.predict(X_test_dt))"
   ]
  },
  {
   "cell_type": "code",
   "execution_count": 85,
   "id": "d4f1df5c",
   "metadata": {},
   "outputs": [],
   "source": [
    "# Use the trained model to make predictions on the test data\n",
    "y_pred = rf.predict(X_test_dt)"
   ]
  },
  {
   "cell_type": "code",
   "execution_count": 86,
   "id": "5a4343d2",
   "metadata": {},
   "outputs": [
    {
     "name": "stdout",
     "output_type": "stream",
     "text": [
      "Accuracy_dt: 0.6862348178137652\n"
     ]
    }
   ],
   "source": [
    "# Calculate the accuracy of the model's predictions\n",
    "accuracy_dt = accuracy_score(Y_test_dt, Y_pred_dt)\n",
    "print(\"Accuracy_dt:\", accuracy_dt)"
   ]
  }
 ],
 "metadata": {
  "kernelspec": {
   "display_name": "Python 3 (ipykernel)",
   "language": "python",
   "name": "python3"
  },
  "language_info": {
   "codemirror_mode": {
    "name": "ipython",
    "version": 3
   },
   "file_extension": ".py",
   "mimetype": "text/x-python",
   "name": "python",
   "nbconvert_exporter": "python",
   "pygments_lexer": "ipython3",
   "version": "3.10.9"
  }
 },
 "nbformat": 4,
 "nbformat_minor": 5
}
