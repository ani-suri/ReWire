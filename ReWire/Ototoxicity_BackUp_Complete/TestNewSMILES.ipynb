{
 "cells": [
  {
   "cell_type": "code",
   "execution_count": 184,
   "metadata": {},
   "outputs": [],
   "source": [
    "import pandas as pd\n",
    "import numpy as np\n",
    "from rdkit import Chem\n",
    "from rdkit.Chem import AllChem\n",
    "from sklearn.ensemble import RandomForestClassifier\n",
    "from sklearn import svm\n",
    "from sklearn.model_selection import train_test_split\n",
    "import seaborn as sns\n",
    "import matplotlib.pyplot as plt\n",
    "from sklearn.metrics import confusion_matrix"
   ]
  },
  {
   "cell_type": "code",
   "execution_count": 185,
   "metadata": {},
   "outputs": [],
   "source": [
    "# Reading the csv file\n",
    "df0 = pd.read_csv('data/augmented_class0.csv')  \n",
    "df1 = pd.read_csv('data/augmented_class1.csv')\n",
    "dfc = pd.read_csv('data/covid_19_compounds.csv')\n"
   ]
  },
  {
   "cell_type": "code",
   "execution_count": 186,
   "metadata": {},
   "outputs": [
    {
     "data": {
      "text/html": [
       "<div>\n",
       "<style scoped>\n",
       "    .dataframe tbody tr th:only-of-type {\n",
       "        vertical-align: middle;\n",
       "    }\n",
       "\n",
       "    .dataframe tbody tr th {\n",
       "        vertical-align: top;\n",
       "    }\n",
       "\n",
       "    .dataframe thead th {\n",
       "        text-align: right;\n",
       "    }\n",
       "</style>\n",
       "<table border=\"1\" class=\"dataframe\">\n",
       "  <thead>\n",
       "    <tr style=\"text-align: right;\">\n",
       "      <th></th>\n",
       "      <th>Name</th>\n",
       "      <th>Smile</th>\n",
       "      <th>Class</th>\n",
       "      <th>PUBCHEM_CIDs</th>\n",
       "      <th>Most_Relevant_SMILES</th>\n",
       "      <th>Match_MostRelevant</th>\n",
       "      <th>Matching_SMILES</th>\n",
       "      <th>Matching_CID</th>\n",
       "      <th>Matching_InChIKey</th>\n",
       "    </tr>\n",
       "  </thead>\n",
       "  <tbody>\n",
       "    <tr>\n",
       "      <th>0</th>\n",
       "      <td>propisergide</td>\n",
       "      <td>C[C@H](CO)NC(=O)[C@H]1CN(C)[C@@H]2Cc3cn(C)c4cc...</td>\n",
       "      <td>0</td>\n",
       "      <td>[20055549]</td>\n",
       "      <td>C[C@@H](CO)NC(=O)[C@H]1CN([C@@H]2CC3=CN(C4=CC=...</td>\n",
       "      <td>False</td>\n",
       "      <td>NaN</td>\n",
       "      <td>NaN</td>\n",
       "      <td>NaN</td>\n",
       "    </tr>\n",
       "    <tr>\n",
       "      <th>1</th>\n",
       "      <td>sancycline</td>\n",
       "      <td>CN(C)[C@H]1[C@@H]2C[C@@H]3Cc4cccc(O)c4C(=O)C3=...</td>\n",
       "      <td>0</td>\n",
       "      <td>[54688686]</td>\n",
       "      <td>CN(C)[C@H]1[C@@H]2C[C@@H]3CC4=C(C(=CC=C4)O)C(=...</td>\n",
       "      <td>False</td>\n",
       "      <td>NaN</td>\n",
       "      <td>NaN</td>\n",
       "      <td>NaN</td>\n",
       "    </tr>\n",
       "    <tr>\n",
       "      <th>2</th>\n",
       "      <td>metoserpate</td>\n",
       "      <td>CO[C@H]1C[C@@H]2CN3CCc4c([nH]c5cc(OC)ccc45)[C@...</td>\n",
       "      <td>0</td>\n",
       "      <td>[66252]</td>\n",
       "      <td>CO[C@H]1C[C@@H]2CN3CCC4=C([C@H]3C[C@@H]2[C@@H]...</td>\n",
       "      <td>True</td>\n",
       "      <td>CO[C@H]1C[C@@H]2CN3CCC4=C([C@H]3C[C@@H]2[C@@H]...</td>\n",
       "      <td>66252.0</td>\n",
       "      <td>FPGCYQVKNKEGRQ-SXLQGMKLSA-N</td>\n",
       "    </tr>\n",
       "    <tr>\n",
       "      <th>3</th>\n",
       "      <td>fludiazepam</td>\n",
       "      <td>CN1C(=O)CN=C(c2ccccc2F)c3cc(Cl)ccc13</td>\n",
       "      <td>0</td>\n",
       "      <td>[3369]</td>\n",
       "      <td>CN1C(=O)CN=C(C2=C1C=CC(=C2)Cl)C3=CC=CC=C3F</td>\n",
       "      <td>True</td>\n",
       "      <td>CN1C(=O)CN=C(C2=C1C=CC(=C2)Cl)C3=CC=CC=C3F</td>\n",
       "      <td>3369.0</td>\n",
       "      <td>ROYOYTLGDLIGBX-UHFFFAOYSA-N</td>\n",
       "    </tr>\n",
       "    <tr>\n",
       "      <th>4</th>\n",
       "      <td>epiestriol</td>\n",
       "      <td>C[C@]12CC[C@H]3[C@H](CCc4cc(O)ccc34)[C@H]1C[C@...</td>\n",
       "      <td>0</td>\n",
       "      <td>[68929]</td>\n",
       "      <td>C[C@]12CC[C@H]3[C@H]([C@@H]1C[C@@H]([C@@H]2O)O...</td>\n",
       "      <td>False</td>\n",
       "      <td>NaN</td>\n",
       "      <td>NaN</td>\n",
       "      <td>NaN</td>\n",
       "    </tr>\n",
       "  </tbody>\n",
       "</table>\n",
       "</div>"
      ],
      "text/plain": [
       "           Name                                              Smile  Class  \\\n",
       "0  propisergide  C[C@H](CO)NC(=O)[C@H]1CN(C)[C@@H]2Cc3cn(C)c4cc...      0   \n",
       "1    sancycline  CN(C)[C@H]1[C@@H]2C[C@@H]3Cc4cccc(O)c4C(=O)C3=...      0   \n",
       "2   metoserpate  CO[C@H]1C[C@@H]2CN3CCc4c([nH]c5cc(OC)ccc45)[C@...      0   \n",
       "3   fludiazepam               CN1C(=O)CN=C(c2ccccc2F)c3cc(Cl)ccc13      0   \n",
       "4    epiestriol  C[C@]12CC[C@H]3[C@H](CCc4cc(O)ccc34)[C@H]1C[C@...      0   \n",
       "\n",
       "  PUBCHEM_CIDs                               Most_Relevant_SMILES  \\\n",
       "0   [20055549]  C[C@@H](CO)NC(=O)[C@H]1CN([C@@H]2CC3=CN(C4=CC=...   \n",
       "1   [54688686]  CN(C)[C@H]1[C@@H]2C[C@@H]3CC4=C(C(=CC=C4)O)C(=...   \n",
       "2      [66252]  CO[C@H]1C[C@@H]2CN3CCC4=C([C@H]3C[C@@H]2[C@@H]...   \n",
       "3       [3369]         CN1C(=O)CN=C(C2=C1C=CC(=C2)Cl)C3=CC=CC=C3F   \n",
       "4      [68929]  C[C@]12CC[C@H]3[C@H]([C@@H]1C[C@@H]([C@@H]2O)O...   \n",
       "\n",
       "   Match_MostRelevant                                    Matching_SMILES  \\\n",
       "0               False                                                NaN   \n",
       "1               False                                                NaN   \n",
       "2                True  CO[C@H]1C[C@@H]2CN3CCC4=C([C@H]3C[C@@H]2[C@@H]...   \n",
       "3                True         CN1C(=O)CN=C(C2=C1C=CC(=C2)Cl)C3=CC=CC=C3F   \n",
       "4               False                                                NaN   \n",
       "\n",
       "   Matching_CID            Matching_InChIKey  \n",
       "0           NaN                          NaN  \n",
       "1           NaN                          NaN  \n",
       "2       66252.0  FPGCYQVKNKEGRQ-SXLQGMKLSA-N  \n",
       "3        3369.0  ROYOYTLGDLIGBX-UHFFFAOYSA-N  \n",
       "4           NaN                          NaN  "
      ]
     },
     "execution_count": 186,
     "metadata": {},
     "output_type": "execute_result"
    }
   ],
   "source": [
    "df0.head()"
   ]
  },
  {
   "cell_type": "code",
   "execution_count": 187,
   "metadata": {},
   "outputs": [
    {
     "data": {
      "text/html": [
       "<div>\n",
       "<style scoped>\n",
       "    .dataframe tbody tr th:only-of-type {\n",
       "        vertical-align: middle;\n",
       "    }\n",
       "\n",
       "    .dataframe tbody tr th {\n",
       "        vertical-align: top;\n",
       "    }\n",
       "\n",
       "    .dataframe thead th {\n",
       "        text-align: right;\n",
       "    }\n",
       "</style>\n",
       "<table border=\"1\" class=\"dataframe\">\n",
       "  <thead>\n",
       "    <tr style=\"text-align: right;\">\n",
       "      <th></th>\n",
       "      <th>Name</th>\n",
       "      <th>Smile</th>\n",
       "      <th>Class</th>\n",
       "      <th>PUBCHEM_CIDs</th>\n",
       "      <th>Most_Relevant_SMILES</th>\n",
       "      <th>Match_MostRelevant</th>\n",
       "      <th>Matching_SMILES</th>\n",
       "      <th>Matching_CID</th>\n",
       "      <th>Matching_InChIKey</th>\n",
       "    </tr>\n",
       "  </thead>\n",
       "  <tbody>\n",
       "    <tr>\n",
       "      <th>0</th>\n",
       "      <td>Everolimus</td>\n",
       "      <td>CO[C@@H]1C[C@H](C[C@@H](C)[C@@H]2CC(=O)[C@H](C...</td>\n",
       "      <td>1</td>\n",
       "      <td>[6442177]</td>\n",
       "      <td>C[C@@H]1CC[C@H]2C[C@@H](/C(=C/C=C/C=C/[C@H](C[...</td>\n",
       "      <td>True</td>\n",
       "      <td>C[C@@H]1CC[C@H]2C[C@@H](/C(=C/C=C/C=C/[C@H](C[...</td>\n",
       "      <td>6442177.0</td>\n",
       "      <td>HKVAMNSJSFKALM-GKUWKFKPSA-N</td>\n",
       "    </tr>\n",
       "    <tr>\n",
       "      <th>1</th>\n",
       "      <td>Posaconazole</td>\n",
       "      <td>CC[C@@H]([C@H](C)O)N1N=CN(C1=O)c2ccc(cc2)N3CCN...</td>\n",
       "      <td>1</td>\n",
       "      <td>[468595]</td>\n",
       "      <td>CC[C@@H]([C@H](C)O)N1C(=O)N(C=N1)C2=CC=C(C=C2)...</td>\n",
       "      <td>True</td>\n",
       "      <td>CC[C@@H]([C@H](C)O)N1C(=O)N(C=N1)C2=CC=C(C=C2)...</td>\n",
       "      <td>468595.0</td>\n",
       "      <td>RAGOYPUPXAKGKH-XAKZXMRKSA-N</td>\n",
       "    </tr>\n",
       "    <tr>\n",
       "      <th>2</th>\n",
       "      <td>Alatrofloxacin</td>\n",
       "      <td>C[C@H](N)C(=O)N[C@@H](C)C(=O)N[C@H]1[C@@H]2CN(...</td>\n",
       "      <td>1</td>\n",
       "      <td>[3086677, 5282517]</td>\n",
       "      <td>C[C@@H](C(=O)N[C@@H](C)C(=O)NC1[C@H]2[C@@H]1CN...</td>\n",
       "      <td>False</td>\n",
       "      <td>NaN</td>\n",
       "      <td>NaN</td>\n",
       "      <td>NaN</td>\n",
       "    </tr>\n",
       "    <tr>\n",
       "      <th>3</th>\n",
       "      <td>Aminosidine</td>\n",
       "      <td>NC[C@@H]1O[C@H](O[C@H]2[C@@H](O)[C@H](O[C@@H]3...</td>\n",
       "      <td>1</td>\n",
       "      <td>[165580]</td>\n",
       "      <td>C1[C@H]([C@@H]([C@H]([C@@H]([C@H]1N)O[C@@H]2[C...</td>\n",
       "      <td>True</td>\n",
       "      <td>C1[C@H]([C@@H]([C@H]([C@@H]([C@H]1N)O[C@@H]2[C...</td>\n",
       "      <td>165580.0</td>\n",
       "      <td>UOZODPSAJZTQNH-LSWIJEOBSA-N</td>\n",
       "    </tr>\n",
       "    <tr>\n",
       "      <th>4</th>\n",
       "      <td>Isepamicin</td>\n",
       "      <td>CN[C@@H]1[C@@H](O)[C@@H](O[C@@H]2[C@@H](O)[C@H...</td>\n",
       "      <td>1</td>\n",
       "      <td>[3037209]</td>\n",
       "      <td>C[C@@]1(CO[C@@H]([C@@H]([C@H]1NC)O)O[C@H]2[C@@...</td>\n",
       "      <td>True</td>\n",
       "      <td>C[C@@]1(CO[C@@H]([C@@H]([C@H]1NC)O)O[C@H]2[C@@...</td>\n",
       "      <td>3037209.0</td>\n",
       "      <td>UDIIBEDMEYAVNG-ZKFPOVNWSA-N</td>\n",
       "    </tr>\n",
       "  </tbody>\n",
       "</table>\n",
       "</div>"
      ],
      "text/plain": [
       "             Name                                              Smile  Class  \\\n",
       "0      Everolimus  CO[C@@H]1C[C@H](C[C@@H](C)[C@@H]2CC(=O)[C@H](C...      1   \n",
       "1    Posaconazole  CC[C@@H]([C@H](C)O)N1N=CN(C1=O)c2ccc(cc2)N3CCN...      1   \n",
       "2  Alatrofloxacin  C[C@H](N)C(=O)N[C@@H](C)C(=O)N[C@H]1[C@@H]2CN(...      1   \n",
       "3     Aminosidine  NC[C@@H]1O[C@H](O[C@H]2[C@@H](O)[C@H](O[C@@H]3...      1   \n",
       "4      Isepamicin  CN[C@@H]1[C@@H](O)[C@@H](O[C@@H]2[C@@H](O)[C@H...      1   \n",
       "\n",
       "         PUBCHEM_CIDs                               Most_Relevant_SMILES  \\\n",
       "0           [6442177]  C[C@@H]1CC[C@H]2C[C@@H](/C(=C/C=C/C=C/[C@H](C[...   \n",
       "1            [468595]  CC[C@@H]([C@H](C)O)N1C(=O)N(C=N1)C2=CC=C(C=C2)...   \n",
       "2  [3086677, 5282517]  C[C@@H](C(=O)N[C@@H](C)C(=O)NC1[C@H]2[C@@H]1CN...   \n",
       "3            [165580]  C1[C@H]([C@@H]([C@H]([C@@H]([C@H]1N)O[C@@H]2[C...   \n",
       "4           [3037209]  C[C@@]1(CO[C@@H]([C@@H]([C@H]1NC)O)O[C@H]2[C@@...   \n",
       "\n",
       "   Match_MostRelevant                                    Matching_SMILES  \\\n",
       "0                True  C[C@@H]1CC[C@H]2C[C@@H](/C(=C/C=C/C=C/[C@H](C[...   \n",
       "1                True  CC[C@@H]([C@H](C)O)N1C(=O)N(C=N1)C2=CC=C(C=C2)...   \n",
       "2               False                                                NaN   \n",
       "3                True  C1[C@H]([C@@H]([C@H]([C@@H]([C@H]1N)O[C@@H]2[C...   \n",
       "4                True  C[C@@]1(CO[C@@H]([C@@H]([C@H]1NC)O)O[C@H]2[C@@...   \n",
       "\n",
       "   Matching_CID            Matching_InChIKey  \n",
       "0     6442177.0  HKVAMNSJSFKALM-GKUWKFKPSA-N  \n",
       "1      468595.0  RAGOYPUPXAKGKH-XAKZXMRKSA-N  \n",
       "2           NaN                          NaN  \n",
       "3      165580.0  UOZODPSAJZTQNH-LSWIJEOBSA-N  \n",
       "4     3037209.0  UDIIBEDMEYAVNG-ZKFPOVNWSA-N  "
      ]
     },
     "execution_count": 187,
     "metadata": {},
     "output_type": "execute_result"
    }
   ],
   "source": [
    "df1.head()"
   ]
  },
  {
   "cell_type": "code",
   "execution_count": 188,
   "metadata": {},
   "outputs": [
    {
     "data": {
      "text/html": [
       "<div>\n",
       "<style scoped>\n",
       "    .dataframe tbody tr th:only-of-type {\n",
       "        vertical-align: middle;\n",
       "    }\n",
       "\n",
       "    .dataframe tbody tr th {\n",
       "        vertical-align: top;\n",
       "    }\n",
       "\n",
       "    .dataframe thead th {\n",
       "        text-align: right;\n",
       "    }\n",
       "</style>\n",
       "<table border=\"1\" class=\"dataframe\">\n",
       "  <thead>\n",
       "    <tr style=\"text-align: right;\">\n",
       "      <th></th>\n",
       "      <th>Unnamed: 0</th>\n",
       "      <th>atom_stereo_count</th>\n",
       "      <th>atoms</th>\n",
       "      <th>bond_stereo_count</th>\n",
       "      <th>bonds</th>\n",
       "      <th>cactvs_fingerprint</th>\n",
       "      <th>canonical_smiles</th>\n",
       "      <th>charge</th>\n",
       "      <th>cid</th>\n",
       "      <th>complexity</th>\n",
       "      <th>...</th>\n",
       "      <th>pharmacophore_features_3d</th>\n",
       "      <th>record</th>\n",
       "      <th>rotatable_bond_count</th>\n",
       "      <th>shape_fingerprint_3d</th>\n",
       "      <th>shape_selfoverlap_3d</th>\n",
       "      <th>tpsa</th>\n",
       "      <th>undefined_atom_stereo_count</th>\n",
       "      <th>undefined_bond_stereo_count</th>\n",
       "      <th>volume_3d</th>\n",
       "      <th>xlogp</th>\n",
       "    </tr>\n",
       "  </thead>\n",
       "  <tbody>\n",
       "    <tr>\n",
       "      <th>0</th>\n",
       "      <td>0</td>\n",
       "      <td>6</td>\n",
       "      <td>[{'aid': 1, 'number': 15, 'element': 'P', 'y':...</td>\n",
       "      <td>0</td>\n",
       "      <td>[{'aid1': 1, 'aid2': 5, 'order': 1, 'style': 6...</td>\n",
       "      <td>1111000001111011101111000000001000000000000000...</td>\n",
       "      <td>CCC(CC)COC(=O)C(C)NP(=O)(OCC1C(C(C(O1)(C#N)C2=...</td>\n",
       "      <td>0</td>\n",
       "      <td>121304016</td>\n",
       "      <td>1010.0</td>\n",
       "      <td>...</td>\n",
       "      <td>NaN</td>\n",
       "      <td>{'id': {'id': {'cid': 121304016}}, 'atoms': {'...</td>\n",
       "      <td>14</td>\n",
       "      <td>NaN</td>\n",
       "      <td>NaN</td>\n",
       "      <td>204.0</td>\n",
       "      <td>0</td>\n",
       "      <td>0</td>\n",
       "      <td>NaN</td>\n",
       "      <td>1.9</td>\n",
       "    </tr>\n",
       "    <tr>\n",
       "      <th>1</th>\n",
       "      <td>0</td>\n",
       "      <td>1</td>\n",
       "      <td>[{'aid': 1, 'number': 17, 'element': 'Cl', 'y'...</td>\n",
       "      <td>0</td>\n",
       "      <td>[{'aid1': 1, 'aid2': 22, 'order': 1}, {'aid1':...</td>\n",
       "      <td>1110000001111011000000000000000000000100000000...</td>\n",
       "      <td>CCN(CC)CCCC(C)NC1=C2C=CC(=CC2=NC=C1)Cl</td>\n",
       "      <td>0</td>\n",
       "      <td>2719</td>\n",
       "      <td>309.0</td>\n",
       "      <td>...</td>\n",
       "      <td>NaN</td>\n",
       "      <td>{'id': {'id': {'cid': 2719}}, 'atoms': {'aid':...</td>\n",
       "      <td>8</td>\n",
       "      <td>NaN</td>\n",
       "      <td>NaN</td>\n",
       "      <td>28.2</td>\n",
       "      <td>1</td>\n",
       "      <td>0</td>\n",
       "      <td>NaN</td>\n",
       "      <td>4.6</td>\n",
       "    </tr>\n",
       "    <tr>\n",
       "      <th>2</th>\n",
       "      <td>0</td>\n",
       "      <td>4</td>\n",
       "      <td>[{'aid': 1, 'number': 16, 'element': 'S', 'y':...</td>\n",
       "      <td>0</td>\n",
       "      <td>[{'aid1': 1, 'aid2': 44, 'order': 1, 'style': ...</td>\n",
       "      <td>1111000001111111101110000000000001100000000000...</td>\n",
       "      <td>CC(C)C1=NC(=CS1)CN(C)C(=O)NC(C(C)C)C(=O)NC(CC2...</td>\n",
       "      <td>0</td>\n",
       "      <td>392622</td>\n",
       "      <td>1040.0</td>\n",
       "      <td>...</td>\n",
       "      <td>NaN</td>\n",
       "      <td>{'id': {'id': {'cid': 392622}}, 'atoms': {'aid...</td>\n",
       "      <td>18</td>\n",
       "      <td>NaN</td>\n",
       "      <td>NaN</td>\n",
       "      <td>202.0</td>\n",
       "      <td>0</td>\n",
       "      <td>0</td>\n",
       "      <td>NaN</td>\n",
       "      <td>6.0</td>\n",
       "    </tr>\n",
       "    <tr>\n",
       "      <th>3</th>\n",
       "      <td>0</td>\n",
       "      <td>0</td>\n",
       "      <td>[{'aid': 1, 'number': 8, 'element': 'O', 'y': ...</td>\n",
       "      <td>0</td>\n",
       "      <td>[{'aid1': 1, 'aid2': 7, 'order': 1}, {'aid1': ...</td>\n",
       "      <td>1111000001111010001100000000000000000000000000...</td>\n",
       "      <td>CCCCCCCCC1=CC=C(C=C1)CCC(CO)(CO)N</td>\n",
       "      <td>0</td>\n",
       "      <td>107970</td>\n",
       "      <td>258.0</td>\n",
       "      <td>...</td>\n",
       "      <td>NaN</td>\n",
       "      <td>{'id': {'id': {'cid': 107970}}, 'atoms': {'aid...</td>\n",
       "      <td>12</td>\n",
       "      <td>NaN</td>\n",
       "      <td>NaN</td>\n",
       "      <td>66.5</td>\n",
       "      <td>0</td>\n",
       "      <td>0</td>\n",
       "      <td>NaN</td>\n",
       "      <td>4.2</td>\n",
       "    </tr>\n",
       "    <tr>\n",
       "      <th>4</th>\n",
       "      <td>0</td>\n",
       "      <td>4</td>\n",
       "      <td>[{'aid': 1, 'number': 8, 'element': 'O', 'y': ...</td>\n",
       "      <td>0</td>\n",
       "      <td>[{'aid1': 1, 'aid2': 12, 'order': 1}, {'aid1':...</td>\n",
       "      <td>1100000001110011001110000000000000000000000000...</td>\n",
       "      <td>C1=CN(C(=O)N=C1NO)C2C(C(C(O2)CO)O)O</td>\n",
       "      <td>0</td>\n",
       "      <td>197020</td>\n",
       "      <td>398.0</td>\n",
       "      <td>...</td>\n",
       "      <td>NaN</td>\n",
       "      <td>{'id': {'id': {'cid': 197020}}, 'atoms': {'aid...</td>\n",
       "      <td>3</td>\n",
       "      <td>NaN</td>\n",
       "      <td>NaN</td>\n",
       "      <td>135.0</td>\n",
       "      <td>0</td>\n",
       "      <td>0</td>\n",
       "      <td>NaN</td>\n",
       "      <td>-2.2</td>\n",
       "    </tr>\n",
       "  </tbody>\n",
       "</table>\n",
       "<p>5 rows × 45 columns</p>\n",
       "</div>"
      ],
      "text/plain": [
       "   Unnamed: 0  atom_stereo_count  \\\n",
       "0           0                  6   \n",
       "1           0                  1   \n",
       "2           0                  4   \n",
       "3           0                  0   \n",
       "4           0                  4   \n",
       "\n",
       "                                               atoms  bond_stereo_count  \\\n",
       "0  [{'aid': 1, 'number': 15, 'element': 'P', 'y':...                  0   \n",
       "1  [{'aid': 1, 'number': 17, 'element': 'Cl', 'y'...                  0   \n",
       "2  [{'aid': 1, 'number': 16, 'element': 'S', 'y':...                  0   \n",
       "3  [{'aid': 1, 'number': 8, 'element': 'O', 'y': ...                  0   \n",
       "4  [{'aid': 1, 'number': 8, 'element': 'O', 'y': ...                  0   \n",
       "\n",
       "                                               bonds  \\\n",
       "0  [{'aid1': 1, 'aid2': 5, 'order': 1, 'style': 6...   \n",
       "1  [{'aid1': 1, 'aid2': 22, 'order': 1}, {'aid1':...   \n",
       "2  [{'aid1': 1, 'aid2': 44, 'order': 1, 'style': ...   \n",
       "3  [{'aid1': 1, 'aid2': 7, 'order': 1}, {'aid1': ...   \n",
       "4  [{'aid1': 1, 'aid2': 12, 'order': 1}, {'aid1':...   \n",
       "\n",
       "                                  cactvs_fingerprint  \\\n",
       "0  1111000001111011101111000000001000000000000000...   \n",
       "1  1110000001111011000000000000000000000100000000...   \n",
       "2  1111000001111111101110000000000001100000000000...   \n",
       "3  1111000001111010001100000000000000000000000000...   \n",
       "4  1100000001110011001110000000000000000000000000...   \n",
       "\n",
       "                                    canonical_smiles  charge        cid  \\\n",
       "0  CCC(CC)COC(=O)C(C)NP(=O)(OCC1C(C(C(O1)(C#N)C2=...       0  121304016   \n",
       "1             CCN(CC)CCCC(C)NC1=C2C=CC(=CC2=NC=C1)Cl       0       2719   \n",
       "2  CC(C)C1=NC(=CS1)CN(C)C(=O)NC(C(C)C)C(=O)NC(CC2...       0     392622   \n",
       "3                  CCCCCCCCC1=CC=C(C=C1)CCC(CO)(CO)N       0     107970   \n",
       "4                C1=CN(C(=O)N=C1NO)C2C(C(C(O2)CO)O)O       0     197020   \n",
       "\n",
       "   complexity  ...  pharmacophore_features_3d  \\\n",
       "0      1010.0  ...                        NaN   \n",
       "1       309.0  ...                        NaN   \n",
       "2      1040.0  ...                        NaN   \n",
       "3       258.0  ...                        NaN   \n",
       "4       398.0  ...                        NaN   \n",
       "\n",
       "                                              record rotatable_bond_count  \\\n",
       "0  {'id': {'id': {'cid': 121304016}}, 'atoms': {'...                   14   \n",
       "1  {'id': {'id': {'cid': 2719}}, 'atoms': {'aid':...                    8   \n",
       "2  {'id': {'id': {'cid': 392622}}, 'atoms': {'aid...                   18   \n",
       "3  {'id': {'id': {'cid': 107970}}, 'atoms': {'aid...                   12   \n",
       "4  {'id': {'id': {'cid': 197020}}, 'atoms': {'aid...                    3   \n",
       "\n",
       "   shape_fingerprint_3d  shape_selfoverlap_3d   tpsa  \\\n",
       "0                   NaN                   NaN  204.0   \n",
       "1                   NaN                   NaN   28.2   \n",
       "2                   NaN                   NaN  202.0   \n",
       "3                   NaN                   NaN   66.5   \n",
       "4                   NaN                   NaN  135.0   \n",
       "\n",
       "   undefined_atom_stereo_count undefined_bond_stereo_count  volume_3d  xlogp  \n",
       "0                            0                           0        NaN    1.9  \n",
       "1                            1                           0        NaN    4.6  \n",
       "2                            0                           0        NaN    6.0  \n",
       "3                            0                           0        NaN    4.2  \n",
       "4                            0                           0        NaN   -2.2  \n",
       "\n",
       "[5 rows x 45 columns]"
      ]
     },
     "execution_count": 188,
     "metadata": {},
     "output_type": "execute_result"
    }
   ],
   "source": [
    "dfc.head()"
   ]
  },
  {
   "cell_type": "code",
   "execution_count": 189,
   "metadata": {},
   "outputs": [],
   "source": [
    "df0 = df0[[\"Most_Relevant_SMILES\"]]\n",
    "df1 = df1[['Most_Relevant_SMILES']]\n",
    "df0 = df0[df0.Most_Relevant_SMILES.notna()]\n",
    "df1 = df1[df1.Most_Relevant_SMILES.notna()]\n",
    "dfc = dfc[['isomeric_smiles']]\n",
    "dfc = dfc[dfc.isomeric_smiles.notna()]"
   ]
  },
  {
   "cell_type": "code",
   "execution_count": 190,
   "metadata": {},
   "outputs": [
    {
     "name": "stderr",
     "output_type": "stream",
     "text": [
      "[16:02:42] WARNING: not removing hydrogen atom without neighbors\n",
      "[16:02:42] WARNING: not removing hydrogen atom without neighbors\n",
      "[16:02:44] WARNING: not removing hydrogen atom without neighbors\n",
      "[16:02:44] WARNING: not removing hydrogen atom without neighbors\n",
      "[16:02:44] WARNING: not removing hydrogen atom without neighbors\n",
      "[16:02:44] WARNING: not removing hydrogen atom without neighbors\n",
      "[16:02:44] WARNING: not removing hydrogen atom without neighbors\n",
      "[16:02:44] WARNING: not removing hydrogen atom without neighbors\n",
      "[16:02:44] WARNING: not removing hydrogen atom without neighbors\n",
      "[16:02:44] WARNING: not removing hydrogen atom without neighbors\n",
      "[16:02:44] WARNING: not removing hydrogen atom without neighbors\n",
      "[16:02:44] WARNING: not removing hydrogen atom without neighbors\n",
      "[16:02:44] WARNING: not removing hydrogen atom without neighbors\n"
     ]
    }
   ],
   "source": [
    "df0['mol']= df0['Most_Relevant_SMILES'].apply(lambda x: AllChem.MolFromSmiles(x))\n",
    "df0['FP']= df0['mol'].apply(lambda x: Chem.RDKFingerprint(x))\n",
    "df1['mol']= df1['Most_Relevant_SMILES'].apply(lambda x: AllChem.MolFromSmiles(x))\n",
    "df1['FP']= df1['mol'].apply(lambda x: Chem.RDKFingerprint(x))\n",
    "dfc['mol']= dfc['isomeric_smiles'].apply(lambda x: AllChem.MolFromSmiles(x))\n",
    "dfc['FP']= dfc['mol'].apply(lambda x: Chem.RDKFingerprint(x))\n"
   ]
  },
  {
   "cell_type": "code",
   "execution_count": 191,
   "metadata": {},
   "outputs": [],
   "source": [
    "# Transforming Fingerprint objects into 2048-bit arrays\n",
    "N_features = 2048\n",
    "\n",
    "N_0 = df0.shape[0]\n",
    "X_ = np.array(df0['FP'].apply(lambda x: np.array(x, dtype=np.uint8)))\n",
    "X0 = np.zeros((N_0, N_features), dtype=np.uint8)\n",
    "for i in range(N_0):\n",
    "  X0[i, :] = X_[i]\n",
    "Y0=np.zeros(N_0)\n",
    "\n",
    "N_1 = df1.shape[0]\n",
    "X_ = np.array(df1['FP'].apply(lambda x: np.array(x, dtype=np.uint8)))\n",
    "X1 = np.zeros((N_1, N_features), dtype=np.uint8)\n",
    "for i in range(N_1):\n",
    "  X1[i, :] = X_[i]\n",
    "Y1=np.ones(N_1)\n",
    "\n",
    "N_1 = dfc.shape[0]\n",
    "X_ = np.array(dfc['FP'].apply(lambda x: np.array(x, dtype=np.uint8)))\n",
    "Xc = np.zeros((N_1, N_features), dtype=np.uint8)\n",
    "for i in range(N_1):\n",
    "  Xc[i, :] = X_[i]\n"
   ]
  },
  {
   "cell_type": "code",
   "execution_count": 192,
   "metadata": {},
   "outputs": [],
   "source": [
    "X = np.concatenate((X0,X1),axis=0)\n",
    "Y = np.concatenate((Y0,Y1),axis=0)\n",
    "best_acc = 0.0"
   ]
  },
  {
   "attachments": {},
   "cell_type": "markdown",
   "metadata": {},
   "source": [
    "SVM"
   ]
  },
  {
   "cell_type": "code",
   "execution_count": 193,
   "metadata": {},
   "outputs": [
    {
     "name": "stdout",
     "output_type": "stream",
     "text": [
      "Train accuracy using new SMILES with SVM is 0.854757085020243,test accuracy is 0.7327935222672065\n"
     ]
    },
    {
     "data": {
      "image/png": "[encoded data removed]",
      "text/plain": [
       "<Figure size 640x480 with 2 Axes>"
      ]
     },
     "metadata": {},
     "output_type": "display_data"
    },
    {
     "name": "stdout",
     "output_type": "stream",
     "text": [
      "Number of 0.0 in the predicted COVID drugs labels: 1083\n",
      "Number of 1.0 in the predicted COVID drugs labels: 624\n"
     ]
    }
   ],
   "source": [
    "X_train, X_test, Y_train, Y_test = train_test_split(X, Y, test_size=0.2, random_state=42)\n",
    "model = svm.SVC()\n",
    "model.fit(X_train,Y_train)\n",
    "Y_pred = np.array(model.predict(X_test))\n",
    "train_pred = np.array(model.predict(X_train))\n",
    "train_acc = np.mean(train_pred == Y_train)\n",
    "test_acc = np.mean(Y_pred == Y_test)\n",
    "print(f'Train accuracy using new SMILES with SVM is {train_acc},test accuracy is {test_acc}')\n",
    "\n",
    "cm = confusion_matrix(Y_test, Y_pred)\n",
    "sns.heatmap(cm, annot=True, fmt=\"d\", cmap=\"Blues\")\n",
    "plt.xlabel(\"Predicted labels\")\n",
    "plt.ylabel(\"True labels\")\n",
    "plt.title(\"Confusion Matrix\")\n",
    "plt.show()\n",
    "\n",
    "covid_pred = np.array(model.predict(Xc))\n",
    "if test_acc > best_acc:\n",
    "    best_pred = covid_pred\n",
    "unique_values, counts = np.unique(covid_pred, return_counts=True)\n",
    "# Print the counts\n",
    "for value, count in zip(unique_values, counts):\n",
    "    print(\"Number of\", value, \"in the predicted COVID drugs labels:\", count)"
   ]
  },
  {
   "attachments": {},
   "cell_type": "markdown",
   "metadata": {},
   "source": [
    "Random Forest"
   ]
  },
  {
   "cell_type": "code",
   "execution_count": 194,
   "metadata": {},
   "outputs": [
    {
     "name": "stdout",
     "output_type": "stream",
     "text": [
      "Train accuracy using new SMILES with default RFC is 0.9924089068825911,test accuracy is 0.6923076923076923\n"
     ]
    },
    {
     "data": {
      "image/png": "[encoded data removed]",
      "text/plain": [
       "<Figure size 640x480 with 2 Axes>"
      ]
     },
     "metadata": {},
     "output_type": "display_data"
    },
    {
     "name": "stdout",
     "output_type": "stream",
     "text": [
      "Number of 0.0 in the predicted COVID drugs labels: 1042\n",
      "Number of 1.0 in the predicted COVID drugs labels: 665\n"
     ]
    }
   ],
   "source": [
    "X_train, X_test, Y_train, Y_test = train_test_split(X, Y, test_size=0.2, random_state=42)\n",
    "model = RandomForestClassifier()\n",
    "model.fit(X_train,Y_train)\n",
    "Y_pred = np.array(model.predict(X_test))\n",
    "train_pred = np.array(model.predict(X_train))\n",
    "train_acc = np.mean(train_pred == Y_train)\n",
    "test_acc = np.mean(Y_pred == Y_test)\n",
    "print(f'Train accuracy using new SMILES with default RFC is {train_acc},test accuracy is {test_acc}')\n",
    "\n",
    "cm = confusion_matrix(Y_test, Y_pred)\n",
    "sns.heatmap(cm, annot=True, fmt=\"d\", cmap=\"Blues\")\n",
    "plt.xlabel(\"Predicted labels\")\n",
    "plt.ylabel(\"True labels\")\n",
    "plt.title(\"Confusion Matrix\")\n",
    "plt.show()\n",
    "\n",
    "covid_pred = np.array(model.predict(Xc))\n",
    "if test_acc > best_acc:\n",
    "    best_pred = covid_pred\n",
    "unique_values, counts = np.unique(covid_pred, return_counts=True)\n",
    "# Print the counts\n",
    "for value, count in zip(unique_values, counts):\n",
    "    print(\"Number of\", value, \"in the predicted COVID drugs labels:\", count)"
   ]
  },
  {
   "cell_type": "code",
   "execution_count": 195,
   "metadata": {},
   "outputs": [
    {
     "name": "stdout",
     "output_type": "stream",
     "text": [
      "Train accuracy using new SMILES with simpler RFC is 0.8415991902834008,test accuracy is 0.6781376518218624\n"
     ]
    },
    {
     "data": {
      "image/png": "[encoded data removed]",
      "text/plain": [
       "<Figure size 640x480 with 2 Axes>"
      ]
     },
     "metadata": {},
     "output_type": "display_data"
    },
    {
     "name": "stdout",
     "output_type": "stream",
     "text": [
      "Number of 0.0 in the predicted COVID drugs labels: 1146\n",
      "Number of 1.0 in the predicted COVID drugs labels: 561\n"
     ]
    }
   ],
   "source": [
    "X_train, X_test, Y_train, Y_test = train_test_split(X, Y, test_size=0.2, random_state=42)\n",
    "model = RandomForestClassifier(n_estimators=15,max_depth=7)\n",
    "model.fit(X_train,Y_train)\n",
    "Y_pred = np.array(model.predict(X_test))\n",
    "train_pred = np.array(model.predict(X_train))\n",
    "train_acc = np.mean(train_pred == Y_train)\n",
    "test_acc = np.mean(Y_pred == Y_test)\n",
    "print(f'Train accuracy using new SMILES with simpler RFC is {train_acc},test accuracy is {test_acc}')\n",
    "\n",
    "cm = confusion_matrix(Y_test, Y_pred)\n",
    "sns.heatmap(cm, annot=True, fmt=\"d\", cmap=\"Blues\")\n",
    "plt.xlabel(\"Predicted labels\")\n",
    "plt.ylabel(\"True labels\")\n",
    "plt.title(\"Confusion Matrix\")\n",
    "plt.show()\n",
    "\n",
    "covid_pred = np.array(model.predict(Xc))\n",
    "if test_acc > best_acc:\n",
    "    best_pred = covid_pred\n",
    "unique_values, counts = np.unique(covid_pred, return_counts=True)\n",
    "# Print the counts\n",
    "for value, count in zip(unique_values, counts):\n",
    "    print(\"Number of\", value, \"in the predicted COVID drugs labels:\", count)"
   ]
  },
  {
   "attachments": {},
   "cell_type": "markdown",
   "metadata": {},
   "source": [
    "Using the original SMILES"
   ]
  },
  {
   "cell_type": "code",
   "execution_count": 196,
   "metadata": {},
   "outputs": [],
   "source": [
    "# Reading the csv file\n",
    "df0 = pd.read_csv('data/augmented_class0.csv')  \n",
    "df1 = pd.read_csv('data/augmented_class1.csv')\n",
    "df0 = df0[['Smile']]\n",
    "df1 = df1[['Smile']]\n",
    "df0 = df0[df0.Smile.notna()]\n",
    "df1 = df1[df1.Smile.notna()]\n"
   ]
  },
  {
   "cell_type": "code",
   "execution_count": 197,
   "metadata": {},
   "outputs": [
    {
     "name": "stderr",
     "output_type": "stream",
     "text": [
      "[16:03:03] WARNING: not removing hydrogen atom without neighbors\n",
      "[16:03:03] WARNING: not removing hydrogen atom without neighbors\n",
      "[16:03:04] WARNING: not removing hydrogen atom without neighbors\n"
     ]
    }
   ],
   "source": [
    "df0['mol']= df0['Smile'].apply(lambda x: AllChem.MolFromSmiles(x))\n",
    "df0['FP']= df0['mol'].apply(lambda x: Chem.RDKFingerprint(x))\n",
    "df1['mol']= df1['Smile'].apply(lambda x: AllChem.MolFromSmiles(x))\n",
    "df1['FP']= df1['mol'].apply(lambda x: Chem.RDKFingerprint(x))"
   ]
  },
  {
   "cell_type": "code",
   "execution_count": 198,
   "metadata": {},
   "outputs": [],
   "source": [
    "# Transforming Fingerprint objects into 2048-bit arrays\n",
    "N_features = 2048\n",
    "\n",
    "N_0 = df0.shape[0]\n",
    "X_ = np.array(df0['FP'].apply(lambda x: np.array(x, dtype=np.uint8)))\n",
    "X0 = np.zeros((N_0, N_features), dtype=np.uint8)\n",
    "for i in range(N_0):\n",
    "  X0[i, :] = X_[i]\n",
    "Y0=np.zeros(N_0)\n",
    "\n",
    "N_1 = df1.shape[0]\n",
    "X_ = np.array(df1['FP'].apply(lambda x: np.array(x, dtype=np.uint8)))\n",
    "X1 = np.zeros((N_1, N_features), dtype=np.uint8)\n",
    "for i in range(N_1):\n",
    "  X1[i, :] = X_[i]\n",
    "Y1=np.ones(N_1)\n"
   ]
  },
  {
   "cell_type": "code",
   "execution_count": 199,
   "metadata": {},
   "outputs": [],
   "source": [
    "X = np.concatenate((X0,X1),axis=0)\n",
    "Y = np.concatenate((Y0,Y1),axis=0)"
   ]
  },
  {
   "cell_type": "code",
   "execution_count": 200,
   "metadata": {},
   "outputs": [
    {
     "name": "stdout",
     "output_type": "stream",
     "text": [
      "Train accuracy using original SMILES with SVM is 0.8522388059701492,test accuracy is 0.7077534791252486\n"
     ]
    },
    {
     "data": {
      "image/png": "[encoded data removed]",
      "text/plain": [
       "<Figure size 640x480 with 2 Axes>"
      ]
     },
     "metadata": {},
     "output_type": "display_data"
    },
    {
     "name": "stdout",
     "output_type": "stream",
     "text": [
      "Number of 0.0 in the predicted COVID drugs labels: 1220\n",
      "Number of 1.0 in the predicted COVID drugs labels: 487\n"
     ]
    }
   ],
   "source": [
    "#SVM\n",
    "\n",
    "X_train, X_test, Y_train, Y_test = train_test_split(X, Y, test_size=0.2, random_state=42)\n",
    "model=svm.SVC()\n",
    "model.fit(X_train,Y_train)\n",
    "Y_pred = np.array(model.predict(X_test))\n",
    "train_pred = np.array(model.predict(X_train))\n",
    "train_acc = np.mean(train_pred == Y_train)\n",
    "test_acc = np.mean(Y_pred == Y_test)\n",
    "print(f'Train accuracy using original SMILES with SVM is {train_acc},test accuracy is {test_acc}')\n",
    "\n",
    "cm = confusion_matrix(Y_test, Y_pred)\n",
    "sns.heatmap(cm, annot=True, fmt=\"d\", cmap=\"Blues\")\n",
    "plt.xlabel(\"Predicted labels\")\n",
    "plt.ylabel(\"True labels\")\n",
    "plt.title(\"Confusion Matrix\")\n",
    "plt.show()\n",
    "\n",
    "covid_pred = np.array(model.predict(Xc))\n",
    "if test_acc > best_acc:\n",
    "    best_pred = covid_pred\n",
    "unique_values, counts = np.unique(covid_pred, return_counts=True)\n",
    "# Print the counts\n",
    "for value, count in zip(unique_values, counts):\n",
    "    print(\"Number of\", value, \"in the predicted COVID drugs labels:\", count,)\n"
   ]
  },
  {
   "cell_type": "code",
   "execution_count": 201,
   "metadata": {},
   "outputs": [
    {
     "name": "stdout",
     "output_type": "stream",
     "text": [
      "Train accuracy using original SMILES with RFC is 0.9920398009950249,test accuracy is 0.6938369781312127\n"
     ]
    },
    {
     "data": {
      "image/png": "[encoded data removed]",
      "text/plain": [
       "<Figure size 640x480 with 2 Axes>"
      ]
     },
     "metadata": {},
     "output_type": "display_data"
    },
    {
     "name": "stdout",
     "output_type": "stream",
     "text": [
      "Number of 0.0 in the predicted COVID drugs labels: 1112\n",
      "Number of 1.0 in the predicted COVID drugs labels: 595\n"
     ]
    }
   ],
   "source": [
    "#RFC\n",
    "X_train, X_test, Y_train, Y_test = train_test_split(X, Y, test_size=0.2, random_state=42)\n",
    "model=RandomForestClassifier()\n",
    "model.fit(X_train,Y_train)\n",
    "Y_pred = np.array(model.predict(X_test))\n",
    "train_pred = np.array(model.predict(X_train))\n",
    "train_acc = np.mean(train_pred == Y_train)\n",
    "test_acc = np.mean(Y_pred == Y_test)\n",
    "print(f'Train accuracy using original SMILES with RFC is {train_acc},test accuracy is {test_acc}')\n",
    "\n",
    "cm = confusion_matrix(Y_test, Y_pred)\n",
    "sns.heatmap(cm, annot=True, fmt=\"d\", cmap=\"Blues\")\n",
    "plt.xlabel(\"Predicted labels\")\n",
    "plt.ylabel(\"True labels\")\n",
    "plt.title(\"Confusion Matrix\")\n",
    "plt.show()\n",
    "\n",
    "covid_pred = np.array(model.predict(Xc))\n",
    "if test_acc > best_acc:\n",
    "    best_pred = covid_pred\n",
    "unique_values, counts = np.unique(covid_pred, return_counts=True)\n",
    "# Print the counts\n",
    "for value, count in zip(unique_values, counts):\n",
    "    print(\"Number of\", value, \"in the predicted COVID drugs labels:\", count)\n"
   ]
  },
  {
   "cell_type": "code",
   "execution_count": 202,
   "metadata": {},
   "outputs": [
    {
     "name": "stdout",
     "output_type": "stream",
     "text": [
      "Train accuracy using original SMILES with simpler RFC is 0.844776119402985,test accuracy is 0.6918489065606361\n"
     ]
    },
    {
     "data": {
      "image/png": "[encoded data removed]",
      "text/plain": [
       "<Figure size 640x480 with 2 Axes>"
      ]
     },
     "metadata": {},
     "output_type": "display_data"
    },
    {
     "name": "stdout",
     "output_type": "stream",
     "text": [
      "Number of 0.0 in the predicted COVID drugs labels: 1285\n",
      "Number of 1.0 in the predicted COVID drugs labels: 422\n"
     ]
    }
   ],
   "source": [
    "X_train, X_test, Y_train, Y_test = train_test_split(X, Y, test_size=0.2, random_state=42)\n",
    "model = RandomForestClassifier(n_estimators=15,max_depth=7)\n",
    "model.fit(X_train,Y_train)\n",
    "Y_pred = np.array(model.predict(X_test))\n",
    "train_pred = np.array(model.predict(X_train))\n",
    "train_acc = np.mean(train_pred == Y_train)\n",
    "test_acc = np.mean(Y_pred == Y_test)\n",
    "print(f'Train accuracy using original SMILES with simpler RFC is {train_acc},test accuracy is {test_acc}')\n",
    "\n",
    "cm = confusion_matrix(Y_test, Y_pred)\n",
    "sns.heatmap(cm, annot=True, fmt=\"d\", cmap=\"Blues\")\n",
    "plt.xlabel(\"Predicted labels\")\n",
    "plt.ylabel(\"True labels\")\n",
    "plt.title(\"Confusion Matrix\")\n",
    "plt.show()\n",
    "\n",
    "covid_pred = np.array(model.predict(Xc))\n",
    "if test_acc > best_acc:\n",
    "    best_pred = covid_pred\n",
    "unique_values, counts = np.unique(covid_pred, return_counts=True)\n",
    "# Print the counts\n",
    "for value, count in zip(unique_values, counts):\n",
    "    print(\"Number of\", value, \"in the predicted COVID drugs labels:\", count)"
   ]
  },
  {
   "cell_type": "code",
   "execution_count": 204,
   "metadata": {},
   "outputs": [],
   "source": [
    "dfc = pd.read_csv('data/covid_19_compounds.csv')\n",
    "# The prediction is based on new SMILES with SVM\n",
    "dfc['pred']=best_pred\n",
    "dfc=dfc[dfc['pred']==1]\n",
    "dfc.to_csv('data/covid19_pred_positive.csv', index=False)\n"
   ]
  }
 ],
 "metadata": {
  "kernelspec": {
   "display_name": "oto",
   "language": "python",
   "name": "python3"
  },
  "language_info": {
   "codemirror_mode": {
    "name": "ipython",
    "version": 3
   },
   "file_extension": ".py",
   "mimetype": "text/x-python",
   "name": "python",
   "nbconvert_exporter": "python",
   "pygments_lexer": "ipython3",
   "version": "3.9.16"
  },
  "orig_nbformat": 4
 },
 "nbformat": 4,
 "nbformat_minor": 2
}
