{
 "cells": [
  {
   "cell_type": "code",
   "execution_count": 1,
   "metadata": {},
   "outputs": [],
   "source": [
    "import pandas as pd\n",
    "# %pip install pubchempy\n",
    "import pubchempy as pcp\n",
    "# %pip install rdkit\n",
    "from rdkit import Chem"
   ]
  },
  {
   "cell_type": "code",
   "execution_count": 2,
   "metadata": {},
   "outputs": [
    {
     "data": {
      "text/plain": [
       "<bound method NDFrame.head of                                  Name  \\\n",
       "0                          Everolimus   \n",
       "1                        Posaconazole   \n",
       "2                      Alatrofloxacin   \n",
       "3                         Aminosidine   \n",
       "4                          Isepamicin   \n",
       "..                                ...   \n",
       "901                        Remdesivir   \n",
       "902  2-Hyroxypropyl-beta-cyclodextrin   \n",
       "903         3,3'-iminodipropionitrile   \n",
       "904                     chlorhexidine   \n",
       "905                       Clioquinol    \n",
       "\n",
       "                                                 Smile  Class  \n",
       "0    CO[C@@H]1C[C@H](C[C@@H](C)[C@@H]2CC(=O)[C@H](C...      1  \n",
       "1    CC[C@@H]([C@H](C)O)N1N=CN(C1=O)c2ccc(cc2)N3CCN...      1  \n",
       "2    C[C@H](N)C(=O)N[C@@H](C)C(=O)N[C@H]1[C@@H]2CN(...      1  \n",
       "3    NC[C@@H]1O[C@H](O[C@H]2[C@@H](O)[C@H](O[C@@H]3...      1  \n",
       "4    CN[C@@H]1[C@@H](O)[C@@H](O[C@@H]2[C@@H](O)[C@H...      1  \n",
       "..                                                 ...    ...  \n",
       "901  CCC(CC)COC(=O)C(C)NP(=O)(OCC1C(C(C(O1)(C#N)C2=...      1  \n",
       "902  C(C1C2C(C(C(O1)OC3C(OC(C(C3O)O)OC4C(OC(C(C4O)O...      1  \n",
       "903                                        N#CCCNCCC#N      1  \n",
       "904  NC(Nc1ccc(Cl)cc1)=NC(N)=NCCCCCCN=C(N)N=C(N)Nc2...      1  \n",
       "905                             Oc1c(I)cc(Cl)c2cccnc12      1  \n",
       "\n",
       "[906 rows x 3 columns]>"
      ]
     },
     "execution_count": 2,
     "metadata": {},
     "output_type": "execute_result"
    }
   ],
   "source": [
    "# Reading the csv file\n",
    "df0 = pd.read_csv('data/Class_1_original_dataset.csv')  \n",
    "df0.head"
   ]
  },
  {
   "cell_type": "code",
   "execution_count": 3,
   "metadata": {},
   "outputs": [],
   "source": [
    "# Given the name of a drug, return the related CIDs (PubChem compound ID) of this drug from PubChem\n",
    "def get_CID(drug_name):\n",
    "    try:\n",
    "        cids = pcp.get_cids(drug_name)\n",
    "        assert len(cids) > 0\n",
    "        return cids\n",
    "    except Exception:\n",
    "        print(f'No structure can be found for {drug_name}')\n",
    "        return None\n"
   ]
  },
  {
   "cell_type": "code",
   "execution_count": 4,
   "metadata": {},
   "outputs": [
    {
     "name": "stdout",
     "output_type": "stream",
     "text": [
      "No structure can be found for Polythiazide\n",
      "No structure can be found for Poly-L-lysine\n",
      "No structure can be found for 2-Hyroxypropyl-beta-cyclodextrin\n"
     ]
    }
   ],
   "source": [
    "# This step takes around 7.5min for 906 drugs.\n",
    "df0[\"PUBCHEM_CIDs\"] = df0[\"Name\"].apply(get_CID)"
   ]
  },
  {
   "cell_type": "code",
   "execution_count": 5,
   "metadata": {},
   "outputs": [
    {
     "data": {
      "text/plain": [
       "<bound method NDFrame.head of                                  Name  \\\n",
       "0                          Everolimus   \n",
       "1                        Posaconazole   \n",
       "2                      Alatrofloxacin   \n",
       "3                         Aminosidine   \n",
       "4                          Isepamicin   \n",
       "..                                ...   \n",
       "901                        Remdesivir   \n",
       "902  2-Hyroxypropyl-beta-cyclodextrin   \n",
       "903         3,3'-iminodipropionitrile   \n",
       "904                     chlorhexidine   \n",
       "905                       Clioquinol    \n",
       "\n",
       "                                                 Smile  Class  \\\n",
       "0    CO[C@@H]1C[C@H](C[C@@H](C)[C@@H]2CC(=O)[C@H](C...      1   \n",
       "1    CC[C@@H]([C@H](C)O)N1N=CN(C1=O)c2ccc(cc2)N3CCN...      1   \n",
       "2    C[C@H](N)C(=O)N[C@@H](C)C(=O)N[C@H]1[C@@H]2CN(...      1   \n",
       "3    NC[C@@H]1O[C@H](O[C@H]2[C@@H](O)[C@H](O[C@@H]3...      1   \n",
       "4    CN[C@@H]1[C@@H](O)[C@@H](O[C@@H]2[C@@H](O)[C@H...      1   \n",
       "..                                                 ...    ...   \n",
       "901  CCC(CC)COC(=O)C(C)NP(=O)(OCC1C(C(C(O1)(C#N)C2=...      1   \n",
       "902  C(C1C2C(C(C(O1)OC3C(OC(C(C3O)O)OC4C(OC(C(C4O)O...      1   \n",
       "903                                        N#CCCNCCC#N      1   \n",
       "904  NC(Nc1ccc(Cl)cc1)=NC(N)=NCCCCCCN=C(N)N=C(N)Nc2...      1   \n",
       "905                             Oc1c(I)cc(Cl)c2cccnc12      1   \n",
       "\n",
       "           PUBCHEM_CIDs  \n",
       "0             [6442177]  \n",
       "1              [468595]  \n",
       "2    [3086677, 5282517]  \n",
       "3              [165580]  \n",
       "4             [3037209]  \n",
       "..                  ...  \n",
       "901         [121304016]  \n",
       "902                None  \n",
       "903              [8149]  \n",
       "904           [9552079]  \n",
       "905              [2788]  \n",
       "\n",
       "[906 rows x 4 columns]>"
      ]
     },
     "execution_count": 5,
     "metadata": {},
     "output_type": "execute_result"
    }
   ],
   "source": [
    "df0.head"
   ]
  },
  {
   "cell_type": "code",
   "execution_count": 6,
   "metadata": {},
   "outputs": [],
   "source": [
    "df1 = df0.copy()\n",
    "# The most relevant SMILES is the SMILES corresponding to the first CID in the search result.\n",
    "df1[\"Most_Relevant_SMILES\"] = None\n",
    "# Match_MostRelevant indicates if the original SMILES matches with the most relevant SMILES.\n",
    "df1[\"Match_MostRelevant\"] = False\n",
    "# Matching_SMILES is the PubChem SMILES corresponding to one of the related CIDs that matches with the original SMILES.\n",
    "df1[\"Matching_SMILES\"] = None\n",
    "# Matching CID is the matched CID \n",
    "df1[\"Matching_CID\"] = None\n",
    "# The matching International Chemical Identifier (InChI) Key \n",
    "df1[\"Matching_InChIKey\"] = None\n"
   ]
  },
  {
   "cell_type": "code",
   "execution_count": 7,
   "metadata": {},
   "outputs": [],
   "source": [
    "# Given two isomeric smiles strings, construct the molecules using Rdkit\n",
    "# and then generate the isomeric smiles again to see if the uniformly generated smiles match\n",
    "def compare_smiles(smiles1, smiles2):\n",
    "    if smiles1 == None or smiles2 == None:\n",
    "        return False\n",
    "    mol1 = Chem.MolFromSmiles(smiles1)\n",
    "    mol2 = Chem.MolFromSmiles(smiles2)\n",
    "    \n",
    "    newsmile1 = Chem.MolToSmiles(mol1,isomericSmiles=True)\n",
    "    newsmile2 = Chem.MolToSmiles(mol2,isomericSmiles=True)\n",
    "\n",
    "    if newsmile1 == newsmile2:   \n",
    "        return True\n",
    "    else:\n",
    "        return False"
   ]
  },
  {
   "cell_type": "code",
   "execution_count": 8,
   "metadata": {},
   "outputs": [
    {
     "name": "stderr",
     "output_type": "stream",
     "text": [
      "[13:29:28] WARNING: not removing hydrogen atom without neighbors\n"
     ]
    }
   ],
   "source": [
    "# It takes around 8.5m for 906 drugs.\n",
    "for i in range(len(df1)):\n",
    "    if df1[\"PUBCHEM_CIDs\"][i]is not None:\n",
    "        # the most relevant CID is the first in the obtained CIDs\n",
    "        most_CID = df1[\"PUBCHEM_CIDs\"][i][0]\n",
    "        # get the compound object identified by this CID\n",
    "        c = pcp.get_compounds(most_CID)[0]\n",
    "        # get the most relevant SMILES\n",
    "        # if there's no isomeric SMILES for this compound, the canonical SMILES will be automatically returned.\n",
    "        df1.loc[i,\"Most_Relevant_SMILES\"] = c.isomeric_smiles\n",
    "\n",
    "        # First compare the most relevant SMILES with the original SMILES.\n",
    "        if compare_smiles(df1[\"Most_Relevant_SMILES\"][i],df1[\"Smile\"][i]):\n",
    "            df1.loc[i,\"Match_MostRelevant\"] = True\n",
    "            df1.loc[i,\"Matching_SMILES\"] = df1[\"Most_Relevant_SMILES\"][i]\n",
    "            df1.loc[i,\"Matching_CID\"] = most_CID\n",
    "            df1.loc[i,\"Matching_InChIKey\"] = c.inchikey\n",
    "\n",
    "        # if the origininal SMILES does not match with the original SMILES and there are other records available,\n",
    "        # check all the available records to find matching SMILES.\n",
    "        elif len(df0[\"PUBCHEM_CIDs\"][i])>1:\n",
    "            for j in range(1,len(df1[\"PUBCHEM_CIDs\"][i])):\n",
    "                cid = df1[\"PUBCHEM_CIDs\"][i][j]\n",
    "                c = pcp.get_compounds(cid)[0]\n",
    "                smile = c.isomeric_smiles\n",
    "                if compare_smiles(smile,df1[\"Smile\"][i]):\n",
    "                    df1.loc[i,\"Matching_SMILES\"] = smile\n",
    "                    df1.loc[i,\"Matching_CID\"] = cid\n",
    "                    df1.loc[i,\"Matching_InChIKey\"] = c.inchikey\n",
    "                    break\n",
    " "
   ]
  },
  {
   "cell_type": "code",
   "execution_count": 9,
   "metadata": {},
   "outputs": [
    {
     "data": {
      "text/plain": [
       "<bound method NDFrame.head of                                  Name  \\\n",
       "0                          Everolimus   \n",
       "1                        Posaconazole   \n",
       "2                      Alatrofloxacin   \n",
       "3                         Aminosidine   \n",
       "4                          Isepamicin   \n",
       "..                                ...   \n",
       "901                        Remdesivir   \n",
       "902  2-Hyroxypropyl-beta-cyclodextrin   \n",
       "903         3,3'-iminodipropionitrile   \n",
       "904                     chlorhexidine   \n",
       "905                       Clioquinol    \n",
       "\n",
       "                                                 Smile  Class  \\\n",
       "0    CO[C@@H]1C[C@H](C[C@@H](C)[C@@H]2CC(=O)[C@H](C...      1   \n",
       "1    CC[C@@H]([C@H](C)O)N1N=CN(C1=O)c2ccc(cc2)N3CCN...      1   \n",
       "2    C[C@H](N)C(=O)N[C@@H](C)C(=O)N[C@H]1[C@@H]2CN(...      1   \n",
       "3    NC[C@@H]1O[C@H](O[C@H]2[C@@H](O)[C@H](O[C@@H]3...      1   \n",
       "4    CN[C@@H]1[C@@H](O)[C@@H](O[C@@H]2[C@@H](O)[C@H...      1   \n",
       "..                                                 ...    ...   \n",
       "901  CCC(CC)COC(=O)C(C)NP(=O)(OCC1C(C(C(O1)(C#N)C2=...      1   \n",
       "902  C(C1C2C(C(C(O1)OC3C(OC(C(C3O)O)OC4C(OC(C(C4O)O...      1   \n",
       "903                                        N#CCCNCCC#N      1   \n",
       "904  NC(Nc1ccc(Cl)cc1)=NC(N)=NCCCCCCN=C(N)N=C(N)Nc2...      1   \n",
       "905                             Oc1c(I)cc(Cl)c2cccnc12      1   \n",
       "\n",
       "           PUBCHEM_CIDs                               Most_Relevant_SMILES  \\\n",
       "0             [6442177]  C[C@@H]1CC[C@H]2C[C@@H](/C(=C/C=C/C=C/[C@H](C[...   \n",
       "1              [468595]  CC[C@@H]([C@H](C)O)N1C(=O)N(C=N1)C2=CC=C(C=C2)...   \n",
       "2    [3086677, 5282517]  C[C@@H](C(=O)N[C@@H](C)C(=O)NC1[C@H]2[C@@H]1CN...   \n",
       "3              [165580]  C1[C@H]([C@@H]([C@H]([C@@H]([C@H]1N)O[C@@H]2[C...   \n",
       "4             [3037209]  C[C@@]1(CO[C@@H]([C@@H]([C@H]1NC)O)O[C@H]2[C@@...   \n",
       "..                  ...                                                ...   \n",
       "901         [121304016]  CCC(CC)COC(=O)[C@H](C)N[P@](=O)(OC[C@@H]1[C@H]...   \n",
       "902                None                                               None   \n",
       "903              [8149]                                      C(CNCCC#N)C#N   \n",
       "904           [9552079]  C1=CC(=CC=C1N/C(=N/C(=NCCCCCCN=C(/N=C(/NC2=CC=...   \n",
       "905              [2788]                      C1=CC2=C(C(=C(C=C2Cl)I)O)N=C1   \n",
       "\n",
       "     Match_MostRelevant                                    Matching_SMILES  \\\n",
       "0                  True  C[C@@H]1CC[C@H]2C[C@@H](/C(=C/C=C/C=C/[C@H](C[...   \n",
       "1                  True  CC[C@@H]([C@H](C)O)N1C(=O)N(C=N1)C2=CC=C(C=C2)...   \n",
       "2                 False                                               None   \n",
       "3                  True  C1[C@H]([C@@H]([C@H]([C@@H]([C@H]1N)O[C@@H]2[C...   \n",
       "4                  True  C[C@@]1(CO[C@@H]([C@@H]([C@H]1NC)O)O[C@H]2[C@@...   \n",
       "..                  ...                                                ...   \n",
       "901               False                                               None   \n",
       "902               False                                               None   \n",
       "903                True                                      C(CNCCC#N)C#N   \n",
       "904               False                                               None   \n",
       "905                True                      C1=CC2=C(C(=C(C=C2Cl)I)O)N=C1   \n",
       "\n",
       "    Matching_CID            Matching_InChIKey  \n",
       "0        6442177  HKVAMNSJSFKALM-GKUWKFKPSA-N  \n",
       "1         468595  RAGOYPUPXAKGKH-XAKZXMRKSA-N  \n",
       "2           None                         None  \n",
       "3         165580  UOZODPSAJZTQNH-LSWIJEOBSA-N  \n",
       "4        3037209  UDIIBEDMEYAVNG-ZKFPOVNWSA-N  \n",
       "..           ...                          ...  \n",
       "901         None                         None  \n",
       "902         None                         None  \n",
       "903         8149  SBAJRGRUGUQKAF-UHFFFAOYSA-N  \n",
       "904         None                         None  \n",
       "905         2788  QCDFBFJGMNKBDO-UHFFFAOYSA-N  \n",
       "\n",
       "[906 rows x 9 columns]>"
      ]
     },
     "execution_count": 9,
     "metadata": {},
     "output_type": "execute_result"
    }
   ],
   "source": [
    "df1.head"
   ]
  },
  {
   "cell_type": "code",
   "execution_count": 13,
   "metadata": {},
   "outputs": [],
   "source": [
    "df1.to_csv('data/processed_class1.csv',index=False)"
   ]
  },
  {
   "cell_type": "code",
   "execution_count": 11,
   "metadata": {},
   "outputs": [],
   "source": [
    "# NoMatch=df0[df0[\"Matching_SMILES\"].notnull()]\n",
    "# NoMatch.to_csv('data/nomatch_class1.csv')"
   ]
  },
  {
   "cell_type": "code",
   "execution_count": 12,
   "metadata": {},
   "outputs": [],
   "source": [
    "# # Displaying some of the mismatching molecules\n",
    "# for i in range(10):\n",
    "#     if df0[\"Same_Mol\"][i]== False:\n",
    "#         mol1 = Chem.MolFromSmiles(df0[\"Smile\"][i])\n",
    "#         mol2 = Chem.MolFromSmiles(df0[\"PUBCHEM_SMILES\"][i])\n",
    "#         fig1 = Chem.Draw.MolToMPL(mol1)\n",
    "#         fig1.show()\n",
    "#         fig2 = Chem.Draw.MolToMPL(mol2)\n",
    "#         fig2.show()"
   ]
  }
 ],
 "metadata": {
  "kernelspec": {
   "display_name": "oto",
   "language": "python",
   "name": "python3"
  },
  "language_info": {
   "codemirror_mode": {
    "name": "ipython",
    "version": 3
   },
   "file_extension": ".py",
   "mimetype": "text/x-python",
   "name": "python",
   "nbconvert_exporter": "python",
   "pygments_lexer": "ipython3",
   "version": "3.9.16"
  },
  "orig_nbformat": 4
 },
 "nbformat": 4,
 "nbformat_minor": 2
}
