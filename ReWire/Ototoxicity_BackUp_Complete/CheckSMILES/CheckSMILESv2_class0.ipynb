{
 "cells": [
  {
   "cell_type": "code",
   "execution_count": 1,
   "metadata": {},
   "outputs": [],
   "source": [
    "import pandas as pd\n",
    "# %pip install pubchempy\n",
    "import pubchempy as pcp\n",
    "# %pip install rdkit\n",
    "from rdkit import Chem"
   ]
  },
  {
   "cell_type": "code",
   "execution_count": 2,
   "metadata": {},
   "outputs": [
    {
     "data": {
      "text/plain": [
       "<bound method NDFrame.head of                Name                                              Smile  Class\n",
       "0      propisergide  C[C@H](CO)NC(=O)[C@H]1CN(C)[C@@H]2Cc3cn(C)c4cc...      0\n",
       "1        sancycline  CN(C)[C@H]1[C@@H]2C[C@@H]3Cc4cccc(O)c4C(=O)C3=...      0\n",
       "2       metoserpate  CO[C@H]1C[C@@H]2CN3CCc4c([nH]c5cc(OC)ccc45)[C@...      0\n",
       "3       fludiazepam               CN1C(=O)CN=C(c2ccccc2F)c3cc(Cl)ccc13      0\n",
       "4        epiestriol  C[C@]12CC[C@H]3[C@H](CCc4cc(O)ccc34)[C@H]1C[C@...      0\n",
       "...             ...                                                ...    ...\n",
       "1602     Demecarium  CN(CCCCCCCCCCN(C)C(=O)OC1=CC=CC(=C1)[N+](C)(C)...      0\n",
       "1603  Hexafluronium  C[N+](C)(CCCCCC[N+](C)(C)C1C2=CC=CC=C2C3=CC=CC...      0\n",
       "1604      Ivacaftor  CC(C)(C)C1=CC(=C(C=C1NC(=O)C2=CNC3=CC=CC=C3C2=...      0\n",
       "1605    gadoteridol  CC(CN1CCN(CCN(CCN(CC1)CC(=O)[O-])CC(=O)[O-])CC...      0\n",
       "1606  Fosaprepitant  CC(C1=CC(=CC(=C1)C(F)(F)F)C(F)(F)F)OC2C(N(CCO2...      0\n",
       "\n",
       "[1607 rows x 3 columns]>"
      ]
     },
     "execution_count": 2,
     "metadata": {},
     "output_type": "execute_result"
    }
   ],
   "source": [
    "# Reading the csv file\n",
    "df0 = pd.read_csv('data/Class_0_original_dataset.csv')  \n",
    "df0.head"
   ]
  },
  {
   "cell_type": "code",
   "execution_count": 3,
   "metadata": {},
   "outputs": [],
   "source": [
    "# Given the name of a drug, return the related CIDs (PubChem compound ID) of this drug from PubChem\n",
    "def get_CID(drug_name):\n",
    "    try:\n",
    "        cids = pcp.get_cids(drug_name)\n",
    "        assert len(cids) > 0\n",
    "        return cids\n",
    "    except Exception:\n",
    "        print(f'No structure can be found for {drug_name}')\n",
    "        return None\n"
   ]
  },
  {
   "cell_type": "code",
   "execution_count": 4,
   "metadata": {},
   "outputs": [
    {
     "name": "stdout",
     "output_type": "stream",
     "text": [
      "No structure can be found for antimony thioglycollate\n",
      "No structure can be found for azaguanidine\n",
      "No structure can be found for hmba\n",
      "No structure can be found for nsc 93236\n",
      "No structure can be found for chloroethyl mesylate\n",
      "No structure can be found for imidazopyrazole\n",
      "No structure can be found for elderfield's pyrimidine mustard\n",
      "No structure can be found for chlorodihydroxyandrostenone\n",
      "No structure can be found for thioguanine alpha-deoxyriboside\n",
      "No structure can be found for thioguanine beta-deoxyriboside\n",
      "No structure can be found for 7-methyltestosterone\n",
      "No structure can be found for pararosaniline\n",
      "No structure can be found for bephenium oh-naphthoate\n",
      "No structure can be found for tryptophane mustard\n",
      "No structure can be found for diaminomethylphenazinium cl\n",
      "No structure can be found for nsc 19622\n",
      "No structure can be found for fenbuprol\n",
      "No structure can be found for nsc 60795\n",
      "No structure can be found for androstenetrione\n",
      "No structure can be found for tylocrebin-(+)\n",
      "No structure can be found for 16-fluorotestosterone propionate\n",
      "No structure can be found for 2-methyl-19-nortestosterone\n",
      "No structure can be found for 9-fluoroxotestenololactone\n",
      "No structure can be found for cetylpyridinium cl\n",
      "No structure can be found for hydroxydimethandrostadienone\n",
      "No structure can be found for 9-fluoroxotestololactone\n",
      "No structure can be found for 3-fluoroandrostanol\n",
      "No structure can be found for carbol-fuschin\n",
      "No structure can be found for pregn-4-ene trione\n",
      "No structure can be found for dimethylhydroxytestosterone\n",
      "No structure can be found for 2-methyl-11-oxoprogesterone\n",
      "No structure can be found for fluorohydroxyandrosterone\n",
      "No structure can be found for nsc 56955\n",
      "No structure can be found for nsc 50903\n",
      "No structure can be found for hydroxymethylandrostanone\n",
      "No structure can be found for nsc 82484\n",
      "No structure can be found for Polymyxin B sulfate\n",
      "No structure can be found for Pentosan polysulfate\n",
      "No structure can be found for Dihydroxyaluminium\n",
      "No structure can be found for Bacitracin\n"
     ]
    }
   ],
   "source": [
    "# This step takes around 13min for 1607 drugs.\n",
    "df0[\"PUBCHEM_CIDs\"] = df0[\"Name\"].apply(get_CID)"
   ]
  },
  {
   "cell_type": "code",
   "execution_count": 5,
   "metadata": {},
   "outputs": [
    {
     "data": {
      "text/plain": [
       "<bound method NDFrame.head of                Name                                              Smile  Class  \\\n",
       "0      propisergide  C[C@H](CO)NC(=O)[C@H]1CN(C)[C@@H]2Cc3cn(C)c4cc...      0   \n",
       "1        sancycline  CN(C)[C@H]1[C@@H]2C[C@@H]3Cc4cccc(O)c4C(=O)C3=...      0   \n",
       "2       metoserpate  CO[C@H]1C[C@@H]2CN3CCc4c([nH]c5cc(OC)ccc45)[C@...      0   \n",
       "3       fludiazepam               CN1C(=O)CN=C(c2ccccc2F)c3cc(Cl)ccc13      0   \n",
       "4        epiestriol  C[C@]12CC[C@H]3[C@H](CCc4cc(O)ccc34)[C@H]1C[C@...      0   \n",
       "...             ...                                                ...    ...   \n",
       "1602     Demecarium  CN(CCCCCCCCCCN(C)C(=O)OC1=CC=CC(=C1)[N+](C)(C)...      0   \n",
       "1603  Hexafluronium  C[N+](C)(CCCCCC[N+](C)(C)C1C2=CC=CC=C2C3=CC=CC...      0   \n",
       "1604      Ivacaftor  CC(C)(C)C1=CC(=C(C=C1NC(=O)C2=CNC3=CC=CC=C3C2=...      0   \n",
       "1605    gadoteridol  CC(CN1CCN(CCN(CCN(CC1)CC(=O)[O-])CC(=O)[O-])CC...      0   \n",
       "1606  Fosaprepitant  CC(C1=CC(=CC(=C1)C(F)(F)F)C(F)(F)F)OC2C(N(CCO2...      0   \n",
       "\n",
       "                                           PUBCHEM_CIDs  \n",
       "0                                            [20055549]  \n",
       "1                                            [54688686]  \n",
       "2                                               [66252]  \n",
       "3                                                [3369]  \n",
       "4                                               [68929]  \n",
       "...                                                 ...  \n",
       "1602                                             [5966]  \n",
       "1603                                             [3601]  \n",
       "1604                                         [16220172]  \n",
       "1605  [60714, 44144429, 92043200, 16757547, 60148448...  \n",
       "1606                                        [135413538]  \n",
       "\n",
       "[1607 rows x 4 columns]>"
      ]
     },
     "execution_count": 5,
     "metadata": {},
     "output_type": "execute_result"
    }
   ],
   "source": [
    "df0.head"
   ]
  },
  {
   "cell_type": "code",
   "execution_count": 6,
   "metadata": {},
   "outputs": [],
   "source": [
    "df1 = df0.copy()\n",
    "# The most relevant SMILES is the SMILES corresponding to the first CID in the search result.\n",
    "df1[\"Most_Relevant_SMILES\"] = None\n",
    "# Match_MostRelevant indicates if the original SMILES matches with the most relevant SMILES.\n",
    "df1[\"Match_MostRelevant\"] = False\n",
    "# Matching_SMILES is the PubChem SMILES corresponding to one of the related CIDs that matches with the original SMILES.\n",
    "df1[\"Matching_SMILES\"] = None\n",
    "# Matching CID is the matched CID \n",
    "df1[\"Matching_CID\"] = None\n",
    "# The matching International Chemical Identifier (InChI) Key \n",
    "df1[\"Matching_InChIKey\"] = None\n"
   ]
  },
  {
   "cell_type": "code",
   "execution_count": 7,
   "metadata": {},
   "outputs": [],
   "source": [
    "# Given two isomeric smiles strings, construct the molecules using Rdkit\n",
    "# and then generate the isomeric smiles again to see if the uniformly generated smiles match\n",
    "def compare_smiles(smiles1, smiles2):\n",
    "    if smiles1 == None or smiles2 == None:\n",
    "        return False\n",
    "    mol1 = Chem.MolFromSmiles(smiles1)\n",
    "    mol2 = Chem.MolFromSmiles(smiles2)\n",
    "    \n",
    "    newsmile1 = Chem.MolToSmiles(mol1,isomericSmiles=True)\n",
    "    newsmile2 = Chem.MolToSmiles(mol2,isomericSmiles=True)\n",
    "\n",
    "    if newsmile1 == newsmile2:   \n",
    "        return True\n",
    "    else:\n",
    "        return False"
   ]
  },
  {
   "cell_type": "code",
   "execution_count": 8,
   "metadata": {},
   "outputs": [
    {
     "name": "stderr",
     "output_type": "stream",
     "text": [
      "[15:20:53] WARNING: not removing hydrogen atom without neighbors\n",
      "[15:20:53] WARNING: not removing hydrogen atom without neighbors\n",
      "[15:20:55] WARNING: not removing hydrogen atom without neighbors\n",
      "[15:20:55] WARNING: not removing hydrogen atom without neighbors\n",
      "[15:20:56] WARNING: not removing hydrogen atom without neighbors\n",
      "[15:20:56] WARNING: not removing hydrogen atom without neighbors\n",
      "[15:20:56] WARNING: not removing hydrogen atom without neighbors\n",
      "[15:20:56] WARNING: not removing hydrogen atom without neighbors\n"
     ]
    }
   ],
   "source": [
    "# It takes around 13m for 1607 drugs.\n",
    "for i in range(len(df1)):\n",
    "    if df1[\"PUBCHEM_CIDs\"][i] is not None:\n",
    "        # the most relevant CID is the first in the obtained CIDs\n",
    "        most_CID = df1[\"PUBCHEM_CIDs\"][i][0]\n",
    "        # get the compound object identified by this CID\n",
    "        c = pcp.get_compounds(most_CID)[0]\n",
    "        # get the most relevant SMILES\n",
    "        # if there's no isomeric SMILES for this compound, the canonical SMILES will be automatically returned.\n",
    "        df1.loc[i,\"Most_Relevant_SMILES\"] = c.isomeric_smiles\n",
    "\n",
    "        # First compare the most relevant SMILES with the original SMILES.\n",
    "        if compare_smiles(df1[\"Most_Relevant_SMILES\"][i],df1[\"Smile\"][i]):\n",
    "            df1.loc[i,\"Match_MostRelevant\"] = True\n",
    "            df1.loc[i,\"Matching_SMILES\"] = df1[\"Most_Relevant_SMILES\"][i]\n",
    "            df1.loc[i,\"Matching_CID\"] = most_CID\n",
    "            df1.loc[i,\"Matching_InChIKey\"] = c.inchikey\n",
    "\n",
    "        # if the origininal SMILES does not match with the most relevant SMILES and there are other records available,\n",
    "        # check all the available records to find matching SMILES.\n",
    "        elif len(df0[\"PUBCHEM_CIDs\"][i])>1:\n",
    "            for j in range(1,len(df1[\"PUBCHEM_CIDs\"][i])):\n",
    "                cid = df1[\"PUBCHEM_CIDs\"][i][j]\n",
    "                c = pcp.get_compounds(cid)[0]\n",
    "                smile = c.isomeric_smiles\n",
    "                if compare_smiles(smile,df1[\"Smile\"][i]):\n",
    "                    df1.loc[i,\"Matching_SMILES\"] = smile\n",
    "                    df1.loc[i,\"Matching_CID\"] = cid\n",
    "                    df1.loc[i,\"Matching_InChIKey\"] = c.inchikey\n",
    "                    break\n",
    " "
   ]
  },
  {
   "cell_type": "code",
   "execution_count": 9,
   "metadata": {},
   "outputs": [
    {
     "data": {
      "text/plain": [
       "<bound method NDFrame.head of                Name                                              Smile  Class  \\\n",
       "0      propisergide  C[C@H](CO)NC(=O)[C@H]1CN(C)[C@@H]2Cc3cn(C)c4cc...      0   \n",
       "1        sancycline  CN(C)[C@H]1[C@@H]2C[C@@H]3Cc4cccc(O)c4C(=O)C3=...      0   \n",
       "2       metoserpate  CO[C@H]1C[C@@H]2CN3CCc4c([nH]c5cc(OC)ccc45)[C@...      0   \n",
       "3       fludiazepam               CN1C(=O)CN=C(c2ccccc2F)c3cc(Cl)ccc13      0   \n",
       "4        epiestriol  C[C@]12CC[C@H]3[C@H](CCc4cc(O)ccc34)[C@H]1C[C@...      0   \n",
       "...             ...                                                ...    ...   \n",
       "1602     Demecarium  CN(CCCCCCCCCCN(C)C(=O)OC1=CC=CC(=C1)[N+](C)(C)...      0   \n",
       "1603  Hexafluronium  C[N+](C)(CCCCCC[N+](C)(C)C1C2=CC=CC=C2C3=CC=CC...      0   \n",
       "1604      Ivacaftor  CC(C)(C)C1=CC(=C(C=C1NC(=O)C2=CNC3=CC=CC=C3C2=...      0   \n",
       "1605    gadoteridol  CC(CN1CCN(CCN(CCN(CC1)CC(=O)[O-])CC(=O)[O-])CC...      0   \n",
       "1606  Fosaprepitant  CC(C1=CC(=CC(=C1)C(F)(F)F)C(F)(F)F)OC2C(N(CCO2...      0   \n",
       "\n",
       "                                           PUBCHEM_CIDs  \\\n",
       "0                                            [20055549]   \n",
       "1                                            [54688686]   \n",
       "2                                               [66252]   \n",
       "3                                                [3369]   \n",
       "4                                               [68929]   \n",
       "...                                                 ...   \n",
       "1602                                             [5966]   \n",
       "1603                                             [3601]   \n",
       "1604                                         [16220172]   \n",
       "1605  [60714, 44144429, 92043200, 16757547, 60148448...   \n",
       "1606                                        [135413538]   \n",
       "\n",
       "                                   Most_Relevant_SMILES  Match_MostRelevant  \\\n",
       "0     C[C@@H](CO)NC(=O)[C@H]1CN([C@@H]2CC3=CN(C4=CC=...               False   \n",
       "1     CN(C)[C@H]1[C@@H]2C[C@@H]3CC4=C(C(=CC=C4)O)C(=...               False   \n",
       "2     CO[C@H]1C[C@@H]2CN3CCC4=C([C@H]3C[C@@H]2[C@@H]...                True   \n",
       "3            CN1C(=O)CN=C(C2=C1C=CC(=C2)Cl)C3=CC=CC=C3F                True   \n",
       "4     C[C@]12CC[C@H]3[C@H]([C@@H]1C[C@@H]([C@@H]2O)O...               False   \n",
       "...                                                 ...                 ...   \n",
       "1602  CN(CCCCCCCCCCN(C)C(=O)OC1=CC=CC(=C1)[N+](C)(C)...                True   \n",
       "1603  C[N+](C)(CCCCCC[N+](C)(C)C1C2=CC=CC=C2C3=CC=CC...                True   \n",
       "1604  CC(C)(C)C1=CC(=C(C=C1NC(=O)C2=CNC3=CC=CC=C3C2=...                True   \n",
       "1605  CC(CN1CCN(CCN(CCN(CC1)CC(=O)[O-])CC(=O)[O-])CC...                True   \n",
       "1606  C[C@H](C1=CC(=CC(=C1)C(F)(F)F)C(F)(F)F)O[C@@H]...               False   \n",
       "\n",
       "                                        Matching_SMILES Matching_CID  \\\n",
       "0                                                  None         None   \n",
       "1                                                  None         None   \n",
       "2     CO[C@H]1C[C@@H]2CN3CCC4=C([C@H]3C[C@@H]2[C@@H]...        66252   \n",
       "3            CN1C(=O)CN=C(C2=C1C=CC(=C2)Cl)C3=CC=CC=C3F         3369   \n",
       "4                                                  None         None   \n",
       "...                                                 ...          ...   \n",
       "1602  CN(CCCCCCCCCCN(C)C(=O)OC1=CC=CC(=C1)[N+](C)(C)...         5966   \n",
       "1603  C[N+](C)(CCCCCC[N+](C)(C)C1C2=CC=CC=C2C3=CC=CC...         3601   \n",
       "1604  CC(C)(C)C1=CC(=C(C=C1NC(=O)C2=CNC3=CC=CC=C3C2=...     16220172   \n",
       "1605  CC(CN1CCN(CCN(CCN(CC1)CC(=O)[O-])CC(=O)[O-])CC...        60714   \n",
       "1606                                               None         None   \n",
       "\n",
       "                Matching_InChIKey  \n",
       "0                            None  \n",
       "1                            None  \n",
       "2     FPGCYQVKNKEGRQ-SXLQGMKLSA-N  \n",
       "3     ROYOYTLGDLIGBX-UHFFFAOYSA-N  \n",
       "4                            None  \n",
       "...                           ...  \n",
       "1602  RWZVPVOZTJJMNU-UHFFFAOYSA-N  \n",
       "1603  HDZAQYPYABGTCL-UHFFFAOYSA-N  \n",
       "1604  PURKAOJPTOLRMP-UHFFFAOYSA-N  \n",
       "1605  DPNNNPAKRZOSMO-UHFFFAOYSA-K  \n",
       "1606                         None  \n",
       "\n",
       "[1607 rows x 9 columns]>"
      ]
     },
     "execution_count": 9,
     "metadata": {},
     "output_type": "execute_result"
    }
   ],
   "source": [
    "df1.head"
   ]
  },
  {
   "cell_type": "code",
   "execution_count": 10,
   "metadata": {},
   "outputs": [],
   "source": [
    "df1.to_csv('data/processed_class0.csv',index=False)"
   ]
  },
  {
   "cell_type": "code",
   "execution_count": 11,
   "metadata": {},
   "outputs": [],
   "source": [
    "# NoMatch=df0[df0[\"Matching_SMILES\"].notnull()]\n",
    "# NoMatch.to_csv('data/nomatch_class0.csv')"
   ]
  },
  {
   "cell_type": "code",
   "execution_count": 12,
   "metadata": {},
   "outputs": [],
   "source": [
    "# # Displaying some of the mismatching molecules\n",
    "# for i in range(10):\n",
    "#     if df0[\"Same_Mol\"][i]== False:\n",
    "#         mol1 = Chem.MolFromSmiles(df0[\"Smile\"][i])\n",
    "#         mol2 = Chem.MolFromSmiles(df0[\"PUBCHEM_SMILES\"][i])\n",
    "#         fig1 = Chem.Draw.MolToMPL(mol1)\n",
    "#         fig1.show()\n",
    "#         fig2 = Chem.Draw.MolToMPL(mol2)\n",
    "#         fig2.show()"
   ]
  }
 ],
 "metadata": {
  "kernelspec": {
   "display_name": "oto",
   "language": "python",
   "name": "python3"
  },
  "language_info": {
   "codemirror_mode": {
    "name": "ipython",
    "version": 3
   },
   "file_extension": ".py",
   "mimetype": "text/x-python",
   "name": "python",
   "nbconvert_exporter": "python",
   "pygments_lexer": "ipython3",
   "version": "3.9.16"
  },
  "orig_nbformat": 4
 },
 "nbformat": 4,
 "nbformat_minor": 2
}
